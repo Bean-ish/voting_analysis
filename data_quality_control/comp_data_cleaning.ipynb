{
 "cells": [
  {
   "cell_type": "code",
   "execution_count": null,
   "metadata": {},
   "outputs": [],
   "source": [
    "import numpy as np\n",
    "import pandas as pd\n",
    "from IPython.display import display\n",
    "import pickle\n",
    "import pyarrow\n",
    "import fastparquet"
   ]
  },
  {
   "cell_type": "code",
   "execution_count": 2,
   "metadata": {},
   "outputs": [],
   "source": [
    "# vars\n",
    "path = \"C:/Users/LL/Documents/voter_analysis/merging_data/merged_voter_data_20_24.csv\"\n",
    "# file_name = '100000_voters_sample.csv'"
   ]
  },
  {
   "cell_type": "code",
   "execution_count": 3,
   "metadata": {},
   "outputs": [
    {
     "name": "stderr",
     "output_type": "stream",
     "text": [
      "C:\\Users\\LL\\AppData\\Local\\Temp\\ipykernel_13616\\2401616054.py:2: DtypeWarning: Columns (3,4,5,6,8,9,11,14,17,18,22,27,34,35,36,46) have mixed types. Specify dtype option on import or set low_memory=False.\n",
      "  df = pd.read_csv(path)\n"
     ]
    }
   ],
   "source": [
    "# read\n",
    "df = pd.read_csv(path)"
   ]
  },
  {
   "cell_type": "code",
   "execution_count": 4,
   "metadata": {},
   "outputs": [
    {
     "data": {
      "text/plain": [
       "33444925"
      ]
     },
     "execution_count": 4,
     "metadata": {},
     "output_type": "execute_result"
    }
   ],
   "source": [
    "len(df)"
   ]
  },
  {
   "cell_type": "code",
   "execution_count": 5,
   "metadata": {},
   "outputs": [],
   "source": [
    "# # a row indicating which year the data is from\n",
    "\n",
    "# # 2020: 20179326\n",
    "# # 2024: 13265599\n",
    "\n",
    "# df['year'] = None\n",
    "# df.loc[:20179327,'year'] = '2020'\n",
    "# df.loc[20179327:,'year'] = '2024'"
   ]
  },
  {
   "cell_type": "markdown",
   "metadata": {},
   "source": [
    "### check unique values"
   ]
  },
  {
   "cell_type": "code",
   "execution_count": 6,
   "metadata": {},
   "outputs": [],
   "source": [
    "# df['gender'].value_counts()\n",
    "\n",
    "# where are the null values from - should be 2020 data & voters who didn't vote\n",
    "# assign U?"
   ]
  },
  {
   "cell_type": "code",
   "execution_count": 7,
   "metadata": {},
   "outputs": [],
   "source": [
    "# df['enrollment'].value_counts()"
   ]
  },
  {
   "cell_type": "code",
   "execution_count": 8,
   "metadata": {},
   "outputs": [],
   "source": [
    "# df['otherparty'].value_counts()"
   ]
  },
  {
   "cell_type": "code",
   "execution_count": 9,
   "metadata": {},
   "outputs": [],
   "source": [
    "# df['vrsource'].value_counts()\n",
    "\n",
    "# what is OVR"
   ]
  },
  {
   "cell_type": "code",
   "execution_count": 10,
   "metadata": {},
   "outputs": [],
   "source": [
    "# df['status'].value_counts()\n",
    "\n",
    "# ACTIVE - A\n",
    "# PURGED - P\n",
    "# PREREG - 17\n",
    "# INACTIVE - I"
   ]
  },
  {
   "cell_type": "code",
   "execution_count": 11,
   "metadata": {},
   "outputs": [],
   "source": [
    "# df['reasoncode'].value_counts()\n"
   ]
  },
  {
   "cell_type": "code",
   "execution_count": 12,
   "metadata": {},
   "outputs": [],
   "source": [
    "# df['rcity'].value_counts()"
   ]
  },
  {
   "cell_type": "code",
   "execution_count": 13,
   "metadata": {},
   "outputs": [],
   "source": [
    "# df['countycode'].value_counts()"
   ]
  },
  {
   "cell_type": "code",
   "execution_count": 14,
   "metadata": {},
   "outputs": [],
   "source": [
    "# df['idrequired'].value_counts()"
   ]
  },
  {
   "cell_type": "code",
   "execution_count": null,
   "metadata": {},
   "outputs": [],
   "source": [
    "# df['idmet'].value_counts()\n",
    "\n"
   ]
  },
  {
   "cell_type": "markdown",
   "metadata": {},
   "source": [
    "### cleaning"
   ]
  },
  {
   "cell_type": "code",
   "execution_count": 16,
   "metadata": {},
   "outputs": [],
   "source": [
    "columns = [\n",
    "            'sboeid', 'dob', 'gender', 'enrollment', 'otherparty', 'regdate', 'vrsource',\n",
    "           'status', 'reasoncode', 'inact_date', 'purge_date',\n",
    "            # 'rhalfcode', 'rpredirection', 'rstreetname', 'rpostdirection', 'rapartmenttype', 'rapartment', 'raddrnonstd', \n",
    "            # 'rcity', 'rzip5', 'rzip4', \n",
    "            # 'mailadd1', \n",
    "            # 'countycode', 'ed', 'ld', 'towncity', 'ward', 'cd', 'sd', 'ad', \n",
    "            'lastvoteddate', \n",
    "            # 'prevyearvoted', \n",
    "            # 'prevcounty', 'prevaddress', 'prevname', \n",
    "            # 'countyvrnumber', \n",
    "            'idrequired', 'idmet', \n",
    "            'voterhistory',\n",
    "            ]\n",
    "df_cleaning = df[columns]"
   ]
  },
  {
   "cell_type": "code",
   "execution_count": 17,
   "metadata": {},
   "outputs": [
    {
     "data": {
      "text/html": [
       "<div>\n",
       "<style scoped>\n",
       "    .dataframe tbody tr th:only-of-type {\n",
       "        vertical-align: middle;\n",
       "    }\n",
       "\n",
       "    .dataframe tbody tr th {\n",
       "        vertical-align: top;\n",
       "    }\n",
       "\n",
       "    .dataframe thead th {\n",
       "        text-align: right;\n",
       "    }\n",
       "</style>\n",
       "<table border=\"1\" class=\"dataframe\">\n",
       "  <thead>\n",
       "    <tr style=\"text-align: right;\">\n",
       "      <th></th>\n",
       "      <th>sboeid</th>\n",
       "      <th>dob</th>\n",
       "      <th>gender</th>\n",
       "      <th>enrollment</th>\n",
       "      <th>otherparty</th>\n",
       "      <th>regdate</th>\n",
       "      <th>vrsource</th>\n",
       "      <th>status</th>\n",
       "      <th>reasoncode</th>\n",
       "      <th>inact_date</th>\n",
       "      <th>purge_date</th>\n",
       "      <th>lastvoteddate</th>\n",
       "      <th>idrequired</th>\n",
       "      <th>idmet</th>\n",
       "      <th>voterhistory</th>\n",
       "    </tr>\n",
       "  </thead>\n",
       "  <tbody>\n",
       "    <tr>\n",
       "      <th>0</th>\n",
       "      <td>NY000000000003306194</td>\n",
       "      <td>19710331.0</td>\n",
       "      <td>F</td>\n",
       "      <td>DEM</td>\n",
       "      <td>NaN</td>\n",
       "      <td>19890413.0</td>\n",
       "      <td>CBOE</td>\n",
       "      <td>PURGED</td>\n",
       "      <td>MOVED</td>\n",
       "      <td>NaN</td>\n",
       "      <td>20140611.0</td>\n",
       "      <td>20121106.0</td>\n",
       "      <td>N</td>\n",
       "      <td>Y</td>\n",
       "      <td>2012 General Election;2010 General Election;20...</td>\n",
       "    </tr>\n",
       "    <tr>\n",
       "      <th>1</th>\n",
       "      <td>NY000000000003306195</td>\n",
       "      <td>19720601.0</td>\n",
       "      <td>M</td>\n",
       "      <td>REP</td>\n",
       "      <td>NaN</td>\n",
       "      <td>19900607.0</td>\n",
       "      <td>CBOE</td>\n",
       "      <td>ACTIVE</td>\n",
       "      <td>NaN</td>\n",
       "      <td>NaN</td>\n",
       "      <td>NaN</td>\n",
       "      <td>NaN</td>\n",
       "      <td>N</td>\n",
       "      <td>Y</td>\n",
       "      <td>NaN</td>\n",
       "    </tr>\n",
       "    <tr>\n",
       "      <th>2</th>\n",
       "      <td>NY000000000003306196</td>\n",
       "      <td>19720721.0</td>\n",
       "      <td>M</td>\n",
       "      <td>DEM</td>\n",
       "      <td>NaN</td>\n",
       "      <td>19910115.0</td>\n",
       "      <td>DMV</td>\n",
       "      <td>ACTIVE</td>\n",
       "      <td>NaN</td>\n",
       "      <td>NaN</td>\n",
       "      <td>NaN</td>\n",
       "      <td>NaN</td>\n",
       "      <td>N</td>\n",
       "      <td>Y</td>\n",
       "      <td>NaN</td>\n",
       "    </tr>\n",
       "    <tr>\n",
       "      <th>3</th>\n",
       "      <td>NY000000000003306197</td>\n",
       "      <td>19561106.0</td>\n",
       "      <td>M</td>\n",
       "      <td>REP</td>\n",
       "      <td>NaN</td>\n",
       "      <td>19930226.0</td>\n",
       "      <td>MAIL</td>\n",
       "      <td>INACTIVE</td>\n",
       "      <td>MAILCHECK</td>\n",
       "      <td>20150805.0</td>\n",
       "      <td>NaN</td>\n",
       "      <td>20121106.0</td>\n",
       "      <td>N</td>\n",
       "      <td>Y</td>\n",
       "      <td>2012 General Election;2012 Presidential Primar...</td>\n",
       "    </tr>\n",
       "    <tr>\n",
       "      <th>4</th>\n",
       "      <td>NY000000000003306198</td>\n",
       "      <td>19751125.0</td>\n",
       "      <td>F</td>\n",
       "      <td>DEM</td>\n",
       "      <td>NaN</td>\n",
       "      <td>19931202.0</td>\n",
       "      <td>CBOE</td>\n",
       "      <td>ACTIVE</td>\n",
       "      <td>NaN</td>\n",
       "      <td>NaN</td>\n",
       "      <td>NaN</td>\n",
       "      <td>20201103.0</td>\n",
       "      <td>N</td>\n",
       "      <td>Y</td>\n",
       "      <td>2020 General Election;2019 General Election;20...</td>\n",
       "    </tr>\n",
       "  </tbody>\n",
       "</table>\n",
       "</div>"
      ],
      "text/plain": [
       "                 sboeid         dob gender enrollment otherparty     regdate  \\\n",
       "0  NY000000000003306194  19710331.0      F        DEM        NaN  19890413.0   \n",
       "1  NY000000000003306195  19720601.0      M        REP        NaN  19900607.0   \n",
       "2  NY000000000003306196  19720721.0      M        DEM        NaN  19910115.0   \n",
       "3  NY000000000003306197  19561106.0      M        REP        NaN  19930226.0   \n",
       "4  NY000000000003306198  19751125.0      F        DEM        NaN  19931202.0   \n",
       "\n",
       "  vrsource    status reasoncode  inact_date  purge_date  lastvoteddate  \\\n",
       "0     CBOE    PURGED      MOVED         NaN  20140611.0     20121106.0   \n",
       "1     CBOE    ACTIVE        NaN         NaN         NaN            NaN   \n",
       "2      DMV    ACTIVE        NaN         NaN         NaN            NaN   \n",
       "3     MAIL  INACTIVE  MAILCHECK  20150805.0         NaN     20121106.0   \n",
       "4     CBOE    ACTIVE        NaN         NaN         NaN     20201103.0   \n",
       "\n",
       "  idrequired idmet                                       voterhistory  \n",
       "0          N     Y  2012 General Election;2010 General Election;20...  \n",
       "1          N     Y                                                NaN  \n",
       "2          N     Y                                                NaN  \n",
       "3          N     Y  2012 General Election;2012 Presidential Primar...  \n",
       "4          N     Y  2020 General Election;2019 General Election;20...  "
      ]
     },
     "execution_count": 17,
     "metadata": {},
     "output_type": "execute_result"
    }
   ],
   "source": [
    "df_cleaning.head()"
   ]
  },
  {
   "cell_type": "code",
   "execution_count": 18,
   "metadata": {},
   "outputs": [],
   "source": [
    "others = [\n",
    "            # 'sboeid', 'dob', 'gender', 'enrollment', 'otherparty', 'regdate', 'vrsource',\n",
    "            # 'status', 'reasoncode', 'inact_date', 'purge_date',\n",
    "            'rhalfcode', 'rpredirection', 'rstreetname', 'rpostdirection', 'rapartmenttype', 'rapartment', 'raddrnonstd', \n",
    "            'rcity', 'rzip5', 'rzip4', \n",
    "            'mailadd1', \n",
    "            'countycode', 'ed', 'ld', 'towncity', 'ward', 'cd', 'sd', 'ad', \n",
    "            # 'lastvoteddate', \n",
    "            'prevyearvoted', \n",
    "            'prevcounty', 'prevaddress', 'prevname', \n",
    "            'countyvrnumber', \n",
    "            # 'idrequired', 'idmet', \n",
    "            # 'voterhistory'\n",
    "            ]\n",
    "df_others = df[others]"
   ]
  },
  {
   "cell_type": "markdown",
   "metadata": {},
   "source": [
    "#### remove all nan rows"
   ]
  },
  {
   "cell_type": "code",
   "execution_count": 19,
   "metadata": {},
   "outputs": [],
   "source": [
    "# remove all NaN rows\n",
    "\n",
    "df_cleaning = df_cleaning.dropna(how='all')"
   ]
  },
  {
   "cell_type": "markdown",
   "metadata": {},
   "source": [
    "#### voters removed"
   ]
  },
  {
   "cell_type": "code",
   "execution_count": 89,
   "metadata": {},
   "outputs": [],
   "source": [
    "voters_removed = set()"
   ]
  },
  {
   "cell_type": "markdown",
   "metadata": {},
   "source": [
    "#### catch out of bound dates then drop the rows"
   ]
  },
  {
   "cell_type": "code",
   "execution_count": 20,
   "metadata": {},
   "outputs": [],
   "source": [
    "date_columns = ['dob', 'regdate', 'inact_date', 'purge_date', 'lastvoteddate']\n",
    "df_cleaning[date_columns] = df_cleaning[date_columns].astype('Int64')"
   ]
  },
  {
   "cell_type": "code",
   "execution_count": null,
   "metadata": {},
   "outputs": [],
   "source": [
    "# catch out of bounds index\n",
    "# (1677, 2262)\n",
    "max = 22620000\n",
    "min = 16780000\n",
    "out_of_bound_idx = list()\n",
    "\n",
    "out_of_bound_idx.append(df_cleaning.loc[(df_cleaning['dob'] >= max) | (df_cleaning['dob'] <= min)].index.tolist())\n",
    "out_of_bound_idx.append(df_cleaning.loc[(df_cleaning['regdate'] >= max) | (df_cleaning['regdate'] <= min)].index.tolist())\n",
    "out_of_bound_idx.append(df_cleaning.loc[(df_cleaning['inact_date'] >= max) | (df_cleaning['inact_date'] <= min)].index.tolist())\n",
    "out_of_bound_idx.append(df_cleaning.loc[(df_cleaning['purge_date'] >= max) | (df_cleaning['purge_date'] <= min)].index.tolist())\n",
    "out_of_bound_idx.append(df_cleaning.loc[(df_cleaning['lastvoteddate'] >= max) | (df_cleaning['lastvoteddate'] <= min)].index.tolist())\n",
    "\n",
    "out_of_bound_idx = sorted(out_of_bound_idx)"
   ]
  },
  {
   "cell_type": "code",
   "execution_count": null,
   "metadata": {},
   "outputs": [
    {
     "name": "stdout",
     "output_type": "stream",
     "text": [
      "61\n"
     ]
    }
   ],
   "source": [
    "# pickle index\n",
    "\n",
    "set_of_elements = {item for inner_list in out_of_bound_idx for item in inner_list}\n",
    "oob_index = sorted(list(set_of_elements))\n",
    "print(len(oob_index))\n",
    "\n",
    "oo_bound_idx = pd.Index(oob_index)\n",
    "\n",
    "# with open('oo_bound_idx.pkl', 'wb') as f:\n",
    "#     pickle.dump(oo_bound_idx, f)"
   ]
  },
  {
   "cell_type": "code",
   "execution_count": null,
   "metadata": {},
   "outputs": [],
   "source": [
    "# examine data\n",
    "\n",
    "df_oob = df_cleaning.loc[oo_bound_idx]\n",
    "df_oob"
   ]
  },
  {
   "cell_type": "code",
   "execution_count": null,
   "metadata": {},
   "outputs": [],
   "source": [
    "# catch ids\n",
    "\n",
    "voters_removed.update(df_oob['sboeid'])"
   ]
  },
  {
   "cell_type": "markdown",
   "metadata": {},
   "source": [
    "remove for data type transformation"
   ]
  },
  {
   "cell_type": "code",
   "execution_count": 25,
   "metadata": {},
   "outputs": [
    {
     "name": "stdout",
     "output_type": "stream",
     "text": [
      "33444862\n"
     ]
    }
   ],
   "source": [
    "remaining = df_cleaning.index.difference(oo_bound_idx)\n",
    "\n",
    "# Use the remaining index to select rows\n",
    "df_cleaning = df_cleaning.loc[remaining]\n",
    "\n",
    "print(len(df_cleaning))"
   ]
  },
  {
   "cell_type": "code",
   "execution_count": 26,
   "metadata": {},
   "outputs": [
    {
     "data": {
      "text/plain": [
       "33444923"
      ]
     },
     "execution_count": 26,
     "metadata": {},
     "output_type": "execute_result"
    }
   ],
   "source": [
    "33444862+61\n",
    "# correct"
   ]
  },
  {
   "cell_type": "markdown",
   "metadata": {},
   "source": [
    "#### convert to datetime64"
   ]
  },
  {
   "cell_type": "code",
   "execution_count": 28,
   "metadata": {},
   "outputs": [],
   "source": [
    "df_cleaning['dob'] = pd.to_datetime(df_cleaning['dob'].astype(str), format='%Y%m%d')\n",
    "df_cleaning['regdate'] = pd.to_datetime(df_cleaning['regdate'].astype(str), format='%Y%m%d')"
   ]
  },
  {
   "cell_type": "code",
   "execution_count": 29,
   "metadata": {},
   "outputs": [],
   "source": [
    "df_cleaning['inact_date'] = pd.to_datetime(df_cleaning['inact_date'].astype(str), format='%Y%m%d', errors = 'coerce')\n",
    "df_cleaning['purge_date'] = pd.to_datetime(df_cleaning['purge_date'].astype(str), format='%Y%m%d', errors = 'coerce')\n",
    "df_cleaning['lastvoteddate'] = pd.to_datetime(df_cleaning['lastvoteddate'].astype(str), format='%Y%m%d', errors = 'coerce')"
   ]
  },
  {
   "cell_type": "markdown",
   "metadata": {},
   "source": [
    "#### other columns\n",
    "idrequired/idmet  \n",
    "enrollment/otherparties  \n",
    "status  \n",
    "reasoncode"
   ]
  },
  {
   "cell_type": "code",
   "execution_count": 30,
   "metadata": {},
   "outputs": [],
   "source": [
    "# idrequired/idmet to binary\n",
    "\n",
    "df_cleaning.loc[:,'idrequired'] = df_cleaning.loc[:,'idrequired'].apply(lambda x: 1 if x == 'Y' else 0 if x == 'N' else np.nan)\n",
    "df_cleaning.loc[:,'idmet'] = df_cleaning.loc[:,'idmet'].apply(lambda x: 1 if x == 'Y' else 0 if x == 'N' else np.nan)"
   ]
  },
  {
   "cell_type": "code",
   "execution_count": 31,
   "metadata": {},
   "outputs": [],
   "source": [
    "# upper case\n",
    "\n",
    "df_cleaning.loc[:,'enrollment'] = df_cleaning.loc[:,'enrollment'].str.upper()\n",
    "df_cleaning.loc[:,'otherparty'] = df_cleaning.loc[:,'otherparty'].str.upper()"
   ]
  },
  {
   "cell_type": "code",
   "execution_count": null,
   "metadata": {},
   "outputs": [],
   "source": [
    "# status\n",
    "\n",
    "status_map = {'ACTIVE': 'A', 'PURGED': 'P', 'PREREG': '17', 'INACTIVE': 'I'}\n",
    "df_cleaning.loc[:,'status'] = df_cleaning.loc[:,'status'].replace(status_map)"
   ]
  },
  {
   "cell_type": "code",
   "execution_count": 33,
   "metadata": {},
   "outputs": [],
   "source": [
    "# reason code\n",
    "\n",
    "df_cleaning.loc[:,'reasoncode'] = df_cleaning.loc[:,'reasoncode'].replace('MAIL-CHECK', 'MAILCHECK')"
   ]
  },
  {
   "cell_type": "markdown",
   "metadata": {},
   "source": [
    "#### gender"
   ]
  },
  {
   "cell_type": "code",
   "execution_count": 34,
   "metadata": {},
   "outputs": [],
   "source": [
    "# check null sources in gender\n",
    "\n",
    "import pickle\n",
    "\n",
    "gender_blank_idx = df_cleaning.loc[(df_cleaning['gender'] == ' ')].index\n",
    "\n",
    "# # Save index to a file\n",
    "# with open('gender_blank_idx.pkl', 'wb') as f:\n",
    "#     pickle.dump(gender_blank_idx, f)\n"
   ]
  },
  {
   "cell_type": "code",
   "execution_count": 93,
   "metadata": {},
   "outputs": [
    {
     "data": {
      "text/plain": [
       "250"
      ]
     },
     "execution_count": 93,
     "metadata": {},
     "output_type": "execute_result"
    }
   ],
   "source": [
    "len(df.loc[gender_blank_idx, 'sboeid'].unique())"
   ]
  },
  {
   "cell_type": "code",
   "execution_count": 94,
   "metadata": {},
   "outputs": [
    {
     "name": "stdout",
     "output_type": "stream",
     "text": [
      "296\n"
     ]
    }
   ],
   "source": [
    "voters_removed.update(df.loc[gender_blank_idx, 'sboeid'])\n",
    "print(len(voters_removed))"
   ]
  },
  {
   "cell_type": "code",
   "execution_count": 35,
   "metadata": {},
   "outputs": [],
   "source": [
    "remaining_ = df_cleaning.index.difference(gender_blank_idx)\n",
    "df_cleaning = df_cleaning.loc[remaining_]"
   ]
  },
  {
   "cell_type": "code",
   "execution_count": 36,
   "metadata": {},
   "outputs": [
    {
     "data": {
      "text/plain": [
       "33444612"
      ]
     },
     "execution_count": 36,
     "metadata": {},
     "output_type": "execute_result"
    }
   ],
   "source": [
    "33444862-250\n",
    "# ccorrect"
   ]
  },
  {
   "cell_type": "markdown",
   "metadata": {},
   "source": [
    "#### year_diff column"
   ]
  },
  {
   "cell_type": "code",
   "execution_count": null,
   "metadata": {},
   "outputs": [],
   "source": [
    "df_cleaning['year_diff'] = (df_cleaning['regdate'] - df_cleaning['dob']).dt.days / 365.25"
   ]
  },
  {
   "cell_type": "markdown",
   "metadata": {},
   "source": [
    "#### merge enrollment and otherparty"
   ]
  },
  {
   "cell_type": "code",
   "execution_count": 64,
   "metadata": {},
   "outputs": [
    {
     "data": {
      "text/plain": [
       "0           DEM\n",
       "1           REP\n",
       "2           DEM\n",
       "3           REP\n",
       "4           DEM\n",
       "           ... \n",
       "33444920    BLK\n",
       "33444921    WOR\n",
       "33444922    DEM\n",
       "33444923    BLK\n",
       "33444924    BLK\n",
       "Name: enrollment_combined, Length: 33444612, dtype: object"
      ]
     },
     "execution_count": 64,
     "metadata": {},
     "output_type": "execute_result"
    }
   ],
   "source": [
    "# df_cleaning['enrollment'].fillna(df_cleaning['otherparty']).isna().sum() - 0\n",
    "df_temp = pd.DataFrame()\n",
    "\n",
    "df_temp['enrollment_combined'] = df_cleaning['enrollment'].fillna(df_cleaning['otherparty'])\n",
    "df_temp['enrollment_combined']\n"
   ]
  },
  {
   "cell_type": "code",
   "execution_count": 65,
   "metadata": {},
   "outputs": [],
   "source": [
    "df_cleaning.drop(columns = ['enrollment', 'otherparty'], inplace = True)\n",
    "df_cleaning['enrollment'] = df_temp['enrollment_combined']"
   ]
  },
  {
   "cell_type": "markdown",
   "metadata": {},
   "source": [
    "#### complete dataset"
   ]
  },
  {
   "cell_type": "code",
   "execution_count": 66,
   "metadata": {},
   "outputs": [],
   "source": [
    "result = df_cleaning.join(df_others, how='left')"
   ]
  },
  {
   "cell_type": "code",
   "execution_count": 67,
   "metadata": {},
   "outputs": [
    {
     "name": "stdout",
     "output_type": "stream",
     "text": [
      "True\n",
      "1820-05-18 00:00:00\n"
     ]
    }
   ],
   "source": [
    "print(len(result) == 33444612)\n",
    "print(df_cleaning['regdate'].min())"
   ]
  },
  {
   "cell_type": "markdown",
   "metadata": {},
   "source": [
    "#### age"
   ]
  },
  {
   "cell_type": "markdown",
   "metadata": {},
   "source": [
    "too old"
   ]
  },
  {
   "cell_type": "code",
   "execution_count": null,
   "metadata": {},
   "outputs": [],
   "source": [
    "limit = pd.to_datetime('1900-01-01')\n",
    "df_tooold = df_cleaning.loc[(df_cleaning['dob'] < limit) == True]"
   ]
  },
  {
   "cell_type": "code",
   "execution_count": null,
   "metadata": {},
   "outputs": [
    {
     "data": {
      "text/plain": [
       "197.60164271047228"
      ]
     },
     "metadata": {},
     "output_type": "display_data"
    }
   ],
   "source": [
    "# examine data\n",
    "df_tooold['year_diff'].max()"
   ]
  },
  {
   "cell_type": "code",
   "execution_count": null,
   "metadata": {},
   "outputs": [],
   "source": [
    "# pickle index\n",
    "too_old_indx = df_tooold.index\n",
    "\n",
    "with open('too_old_indx.pkl', 'wb') as f:\n",
    "    pickle.dump(too_old_indx, f)"
   ]
  },
  {
   "cell_type": "code",
   "execution_count": null,
   "metadata": {},
   "outputs": [
    {
     "name": "stdout",
     "output_type": "stream",
     "text": [
      "20623\n"
     ]
    }
   ],
   "source": [
    "# catch ids\n",
    "voters_removed.update(df_tooold['sboeid'])\n",
    "print(len(voters_removed))"
   ]
  },
  {
   "cell_type": "markdown",
   "metadata": {},
   "source": [
    "too young"
   ]
  },
  {
   "cell_type": "code",
   "execution_count": null,
   "metadata": {},
   "outputs": [],
   "source": [
    "# examine data\n",
    "df_cleaning.loc[df_cleaning['year_diff'] < 16]"
   ]
  },
  {
   "cell_type": "code",
   "execution_count": null,
   "metadata": {},
   "outputs": [
    {
     "name": "stdout",
     "output_type": "stream",
     "text": [
      "31033\n"
     ]
    }
   ],
   "source": [
    "# catch ids\n",
    "voters_removed.update(df_cleaning.loc[df_cleaning['year_diff'] < 16,'sboeid'])\n",
    "print(len(voters_removed))"
   ]
  },
  {
   "cell_type": "markdown",
   "metadata": {},
   "source": [
    " remove together"
   ]
  },
  {
   "cell_type": "code",
   "execution_count": null,
   "metadata": {},
   "outputs": [
    {
     "name": "stdout",
     "output_type": "stream",
     "text": [
      "33405005\n"
     ]
    }
   ],
   "source": [
    "result = result.loc[(result['sboeid'].isin(voters_removed)) == False]\n",
    "print(len(result))"
   ]
  },
  {
   "cell_type": "markdown",
   "metadata": {},
   "source": [
    "#### what we removed so far\n",
    "count the number of voters we should remove:  <br>\n",
    "    1. out of bound dates 61<br>\n",
    "    2. gender blank 250 <br>\n",
    "    3. too old (typo) 22844 <br>\n",
    "    4. too young when register (typo) <br>\n",
    "    total: 31033 <br>\n",
    "    <br>"
   ]
  },
  {
   "cell_type": "markdown",
   "metadata": {},
   "source": [
    "#### output"
   ]
  },
  {
   "cell_type": "code",
   "execution_count": 103,
   "metadata": {},
   "outputs": [],
   "source": [
    "# output\n",
    "\n",
    "file_name = 'prog_20_24.csv'\n",
    "result.to_csv(file_name, index=False)"
   ]
  },
  {
   "cell_type": "code",
   "execution_count": 3,
   "metadata": {},
   "outputs": [
    {
     "name": "stderr",
     "output_type": "stream",
     "text": [
      "C:\\Users\\LL\\AppData\\Local\\Temp\\ipykernel_6564\\590179374.py:1: DtypeWarning: Columns (7,8,9,12,15,16,18,19,21,24,30,36,37,38) have mixed types. Specify dtype option on import or set low_memory=False.\n",
      "  result = pd.read_csv('C:/Users/LL/Documents/voter_analysis/prog_20_24.csv')\n"
     ]
    },
    {
     "data": {
      "text/html": [
       "<div>\n",
       "<style scoped>\n",
       "    .dataframe tbody tr th:only-of-type {\n",
       "        vertical-align: middle;\n",
       "    }\n",
       "\n",
       "    .dataframe tbody tr th {\n",
       "        vertical-align: top;\n",
       "    }\n",
       "\n",
       "    .dataframe thead th {\n",
       "        text-align: right;\n",
       "    }\n",
       "</style>\n",
       "<table border=\"1\" class=\"dataframe\">\n",
       "  <thead>\n",
       "    <tr style=\"text-align: right;\">\n",
       "      <th></th>\n",
       "      <th>sboeid</th>\n",
       "      <th>dob</th>\n",
       "      <th>gender</th>\n",
       "      <th>regdate</th>\n",
       "      <th>vrsource</th>\n",
       "      <th>status</th>\n",
       "      <th>reasoncode</th>\n",
       "      <th>inact_date</th>\n",
       "      <th>purge_date</th>\n",
       "      <th>lastvoteddate</th>\n",
       "      <th>...</th>\n",
       "      <th>towncity</th>\n",
       "      <th>ward</th>\n",
       "      <th>cd</th>\n",
       "      <th>sd</th>\n",
       "      <th>ad</th>\n",
       "      <th>prevyearvoted</th>\n",
       "      <th>prevcounty</th>\n",
       "      <th>prevaddress</th>\n",
       "      <th>prevname</th>\n",
       "      <th>countyvrnumber</th>\n",
       "    </tr>\n",
       "  </thead>\n",
       "  <tbody>\n",
       "    <tr>\n",
       "      <th>0</th>\n",
       "      <td>NY000000000003306194</td>\n",
       "      <td>1971-03-31</td>\n",
       "      <td>F</td>\n",
       "      <td>1989-04-13</td>\n",
       "      <td>CBOE</td>\n",
       "      <td>P</td>\n",
       "      <td>MOVED</td>\n",
       "      <td>NaN</td>\n",
       "      <td>2014-06-11</td>\n",
       "      <td>2012-11-06</td>\n",
       "      <td>...</td>\n",
       "      <td>N Tonawanda</td>\n",
       "      <td>3.0</td>\n",
       "      <td>26.0</td>\n",
       "      <td>62.0</td>\n",
       "      <td>140.0</td>\n",
       "      <td>NaN</td>\n",
       "      <td></td>\n",
       "      <td>NaN</td>\n",
       "      <td>NaN</td>\n",
       "      <td>M098132</td>\n",
       "    </tr>\n",
       "    <tr>\n",
       "      <th>1</th>\n",
       "      <td>NY000000000003306195</td>\n",
       "      <td>1972-06-01</td>\n",
       "      <td>M</td>\n",
       "      <td>1990-06-07</td>\n",
       "      <td>CBOE</td>\n",
       "      <td>A</td>\n",
       "      <td>NaN</td>\n",
       "      <td>NaN</td>\n",
       "      <td>NaN</td>\n",
       "      <td>NaN</td>\n",
       "      <td>...</td>\n",
       "      <td>Town of Lockport</td>\n",
       "      <td>0.0</td>\n",
       "      <td>27.0</td>\n",
       "      <td>62.0</td>\n",
       "      <td>144.0</td>\n",
       "      <td>NaN</td>\n",
       "      <td></td>\n",
       "      <td>NaN</td>\n",
       "      <td>NaN</td>\n",
       "      <td>M105403</td>\n",
       "    </tr>\n",
       "    <tr>\n",
       "      <th>2</th>\n",
       "      <td>NY000000000003306196</td>\n",
       "      <td>1972-07-21</td>\n",
       "      <td>M</td>\n",
       "      <td>1991-01-15</td>\n",
       "      <td>DMV</td>\n",
       "      <td>A</td>\n",
       "      <td>NaN</td>\n",
       "      <td>NaN</td>\n",
       "      <td>NaN</td>\n",
       "      <td>NaN</td>\n",
       "      <td>...</td>\n",
       "      <td>Town of Niagara</td>\n",
       "      <td>0.0</td>\n",
       "      <td>27.0</td>\n",
       "      <td>62.0</td>\n",
       "      <td>145.0</td>\n",
       "      <td>NaN</td>\n",
       "      <td></td>\n",
       "      <td>NaN</td>\n",
       "      <td>NaN</td>\n",
       "      <td>M109185</td>\n",
       "    </tr>\n",
       "    <tr>\n",
       "      <th>3</th>\n",
       "      <td>NY000000000003306197</td>\n",
       "      <td>1956-11-06</td>\n",
       "      <td>M</td>\n",
       "      <td>1993-02-26</td>\n",
       "      <td>MAIL</td>\n",
       "      <td>I</td>\n",
       "      <td>MAILCHECK</td>\n",
       "      <td>2015-08-05</td>\n",
       "      <td>NaN</td>\n",
       "      <td>2012-11-06</td>\n",
       "      <td>...</td>\n",
       "      <td>Somerset</td>\n",
       "      <td>0.0</td>\n",
       "      <td>27.0</td>\n",
       "      <td>62.0</td>\n",
       "      <td>144.0</td>\n",
       "      <td>NaN</td>\n",
       "      <td></td>\n",
       "      <td>NaN</td>\n",
       "      <td>NaN</td>\n",
       "      <td>M136177</td>\n",
       "    </tr>\n",
       "    <tr>\n",
       "      <th>4</th>\n",
       "      <td>NY000000000003306198</td>\n",
       "      <td>1975-11-25</td>\n",
       "      <td>F</td>\n",
       "      <td>1993-12-02</td>\n",
       "      <td>CBOE</td>\n",
       "      <td>A</td>\n",
       "      <td>NaN</td>\n",
       "      <td>NaN</td>\n",
       "      <td>NaN</td>\n",
       "      <td>2020-11-03</td>\n",
       "      <td>...</td>\n",
       "      <td>Pendleton</td>\n",
       "      <td>0.0</td>\n",
       "      <td>27.0</td>\n",
       "      <td>62.0</td>\n",
       "      <td>146.0</td>\n",
       "      <td>NaN</td>\n",
       "      <td></td>\n",
       "      <td>NaN</td>\n",
       "      <td>NaN</td>\n",
       "      <td>M142110</td>\n",
       "    </tr>\n",
       "  </tbody>\n",
       "</table>\n",
       "<p>5 rows × 39 columns</p>\n",
       "</div>"
      ],
      "text/plain": [
       "                 sboeid         dob gender     regdate vrsource status  \\\n",
       "0  NY000000000003306194  1971-03-31      F  1989-04-13     CBOE      P   \n",
       "1  NY000000000003306195  1972-06-01      M  1990-06-07     CBOE      A   \n",
       "2  NY000000000003306196  1972-07-21      M  1991-01-15      DMV      A   \n",
       "3  NY000000000003306197  1956-11-06      M  1993-02-26     MAIL      I   \n",
       "4  NY000000000003306198  1975-11-25      F  1993-12-02     CBOE      A   \n",
       "\n",
       "  reasoncode  inact_date  purge_date lastvoteddate  ...          towncity  \\\n",
       "0      MOVED         NaN  2014-06-11    2012-11-06  ...       N Tonawanda   \n",
       "1        NaN         NaN         NaN           NaN  ...  Town of Lockport   \n",
       "2        NaN         NaN         NaN           NaN  ...   Town of Niagara   \n",
       "3  MAILCHECK  2015-08-05         NaN    2012-11-06  ...          Somerset   \n",
       "4        NaN         NaN         NaN    2020-11-03  ...         Pendleton   \n",
       "\n",
       "   ward    cd    sd     ad prevyearvoted prevcounty prevaddress prevname  \\\n",
       "0   3.0  26.0  62.0  140.0           NaN                    NaN      NaN   \n",
       "1   0.0  27.0  62.0  144.0           NaN                    NaN      NaN   \n",
       "2   0.0  27.0  62.0  145.0           NaN                    NaN      NaN   \n",
       "3   0.0  27.0  62.0  144.0           NaN                    NaN      NaN   \n",
       "4   0.0  27.0  62.0  146.0           NaN                    NaN      NaN   \n",
       "\n",
       "  countyvrnumber  \n",
       "0        M098132  \n",
       "1        M105403  \n",
       "2        M109185  \n",
       "3        M136177  \n",
       "4        M142110  \n",
       "\n",
       "[5 rows x 39 columns]"
      ]
     },
     "execution_count": 3,
     "metadata": {},
     "output_type": "execute_result"
    }
   ],
   "source": [
    "result = pd.read_csv('C:/Users/LL/Documents/voter_analysis/prog_20_24.csv')\n",
    "result.head()\n",
    "\n",
    "# 23 min"
   ]
  },
  {
   "cell_type": "markdown",
   "metadata": {},
   "source": [
    "#### generating switching behavior"
   ]
  },
  {
   "cell_type": "code",
   "execution_count": 67,
   "metadata": {},
   "outputs": [
    {
     "data": {
      "text/html": [
       "<div>\n",
       "<style scoped>\n",
       "    .dataframe tbody tr th:only-of-type {\n",
       "        vertical-align: middle;\n",
       "    }\n",
       "\n",
       "    .dataframe tbody tr th {\n",
       "        vertical-align: top;\n",
       "    }\n",
       "\n",
       "    .dataframe thead th {\n",
       "        text-align: right;\n",
       "    }\n",
       "</style>\n",
       "<table border=\"1\" class=\"dataframe\">\n",
       "  <thead>\n",
       "    <tr style=\"text-align: right;\">\n",
       "      <th></th>\n",
       "      <th>sboeid</th>\n",
       "      <th>enrollment</th>\n",
       "      <th>regdate</th>\n",
       "    </tr>\n",
       "  </thead>\n",
       "  <tbody>\n",
       "    <tr>\n",
       "      <th>0</th>\n",
       "      <td>NY000000000003306194</td>\n",
       "      <td>DEM</td>\n",
       "      <td>1989-04-13</td>\n",
       "    </tr>\n",
       "    <tr>\n",
       "      <th>1</th>\n",
       "      <td>NY000000000003306195</td>\n",
       "      <td>REP</td>\n",
       "      <td>1990-06-07</td>\n",
       "    </tr>\n",
       "    <tr>\n",
       "      <th>2</th>\n",
       "      <td>NY000000000003306196</td>\n",
       "      <td>DEM</td>\n",
       "      <td>1991-01-15</td>\n",
       "    </tr>\n",
       "    <tr>\n",
       "      <th>3</th>\n",
       "      <td>NY000000000003306197</td>\n",
       "      <td>REP</td>\n",
       "      <td>1993-02-26</td>\n",
       "    </tr>\n",
       "    <tr>\n",
       "      <th>4</th>\n",
       "      <td>NY000000000003306198</td>\n",
       "      <td>DEM</td>\n",
       "      <td>1993-12-02</td>\n",
       "    </tr>\n",
       "    <tr>\n",
       "      <th>...</th>\n",
       "      <td>...</td>\n",
       "      <td>...</td>\n",
       "      <td>...</td>\n",
       "    </tr>\n",
       "    <tr>\n",
       "      <th>33405000</th>\n",
       "      <td>NY000000000063652443</td>\n",
       "      <td>BLK</td>\n",
       "      <td>2024-05-23</td>\n",
       "    </tr>\n",
       "    <tr>\n",
       "      <th>33405001</th>\n",
       "      <td>NY000000000063652444</td>\n",
       "      <td>WOR</td>\n",
       "      <td>2024-05-22</td>\n",
       "    </tr>\n",
       "    <tr>\n",
       "      <th>33405002</th>\n",
       "      <td>NY000000000063652445</td>\n",
       "      <td>DEM</td>\n",
       "      <td>2024-05-22</td>\n",
       "    </tr>\n",
       "    <tr>\n",
       "      <th>33405003</th>\n",
       "      <td>NY000000000063652447</td>\n",
       "      <td>BLK</td>\n",
       "      <td>2024-05-23</td>\n",
       "    </tr>\n",
       "    <tr>\n",
       "      <th>33405004</th>\n",
       "      <td>NY000000000063652446</td>\n",
       "      <td>BLK</td>\n",
       "      <td>2024-05-23</td>\n",
       "    </tr>\n",
       "  </tbody>\n",
       "</table>\n",
       "<p>33405005 rows × 3 columns</p>\n",
       "</div>"
      ],
      "text/plain": [
       "                        sboeid enrollment     regdate\n",
       "0         NY000000000003306194        DEM  1989-04-13\n",
       "1         NY000000000003306195        REP  1990-06-07\n",
       "2         NY000000000003306196        DEM  1991-01-15\n",
       "3         NY000000000003306197        REP  1993-02-26\n",
       "4         NY000000000003306198        DEM  1993-12-02\n",
       "...                        ...        ...         ...\n",
       "33405000  NY000000000063652443        BLK  2024-05-23\n",
       "33405001  NY000000000063652444        WOR  2024-05-22\n",
       "33405002  NY000000000063652445        DEM  2024-05-22\n",
       "33405003  NY000000000063652447        BLK  2024-05-23\n",
       "33405004  NY000000000063652446        BLK  2024-05-23\n",
       "\n",
       "[33405005 rows x 3 columns]"
      ]
     },
     "execution_count": 67,
     "metadata": {},
     "output_type": "execute_result"
    }
   ],
   "source": [
    "columns = ['sboeid', 'enrollment', 'regdate']\n",
    "df_tmp = result[columns]\n",
    "df_tmp"
   ]
  },
  {
   "cell_type": "code",
   "execution_count": 66,
   "metadata": {},
   "outputs": [
    {
     "data": {
      "text/plain": [
       "20312484"
      ]
     },
     "execution_count": 66,
     "metadata": {},
     "output_type": "execute_result"
    }
   ],
   "source": [
    "gby = df_tmp.groupby(by='sboeid')\n",
    "len(gby)"
   ]
  },
  {
   "cell_type": "code",
   "execution_count": 6,
   "metadata": {},
   "outputs": [
    {
     "name": "stdout",
     "output_type": "stream",
     "text": [
      "12\n",
      "NY000000000021973253\n"
     ]
    }
   ],
   "source": [
    "print(gby.size().max())\n",
    "print(gby.size().idxmax())"
   ]
  },
  {
   "cell_type": "markdown",
   "metadata": {},
   "source": [
    "draw 1000 sample groups for execution time estimation"
   ]
  },
  {
   "cell_type": "code",
   "execution_count": 75,
   "metadata": {},
   "outputs": [
    {
     "data": {
      "text/html": [
       "<div>\n",
       "<style scoped>\n",
       "    .dataframe tbody tr th:only-of-type {\n",
       "        vertical-align: middle;\n",
       "    }\n",
       "\n",
       "    .dataframe tbody tr th {\n",
       "        vertical-align: top;\n",
       "    }\n",
       "\n",
       "    .dataframe thead th {\n",
       "        text-align: right;\n",
       "    }\n",
       "</style>\n",
       "<table border=\"1\" class=\"dataframe\">\n",
       "  <thead>\n",
       "    <tr style=\"text-align: right;\">\n",
       "      <th></th>\n",
       "      <th>sboeid</th>\n",
       "      <th>enrollment</th>\n",
       "      <th>regdate</th>\n",
       "    </tr>\n",
       "  </thead>\n",
       "  <tbody>\n",
       "    <tr>\n",
       "      <th>1508804</th>\n",
       "      <td>NY000000000003306104</td>\n",
       "      <td>WOR</td>\n",
       "      <td>2007-05-16</td>\n",
       "    </tr>\n",
       "    <tr>\n",
       "      <th>20980570</th>\n",
       "      <td>NY000000000003306104</td>\n",
       "      <td>WOR</td>\n",
       "      <td>2007-05-16</td>\n",
       "    </tr>\n",
       "    <tr>\n",
       "      <th>1508805</th>\n",
       "      <td>NY000000000003306105</td>\n",
       "      <td>REP</td>\n",
       "      <td>2006-10-26</td>\n",
       "    </tr>\n",
       "    <tr>\n",
       "      <th>14284189</th>\n",
       "      <td>NY000000000003306105</td>\n",
       "      <td>REP</td>\n",
       "      <td>2012-09-07</td>\n",
       "    </tr>\n",
       "    <tr>\n",
       "      <th>27544462</th>\n",
       "      <td>NY000000000003306105</td>\n",
       "      <td>REP</td>\n",
       "      <td>2012-09-07</td>\n",
       "    </tr>\n",
       "    <tr>\n",
       "      <th>...</th>\n",
       "      <td>...</td>\n",
       "      <td>...</td>\n",
       "      <td>...</td>\n",
       "    </tr>\n",
       "    <tr>\n",
       "      <th>20151901</th>\n",
       "      <td>NY000000000008510545</td>\n",
       "      <td>REP</td>\n",
       "      <td>1999-09-30</td>\n",
       "    </tr>\n",
       "    <tr>\n",
       "      <th>8028</th>\n",
       "      <td>NY000000000008510546</td>\n",
       "      <td>REP</td>\n",
       "      <td>2004-04-20</td>\n",
       "    </tr>\n",
       "    <tr>\n",
       "      <th>20151902</th>\n",
       "      <td>NY000000000008510546</td>\n",
       "      <td>REP</td>\n",
       "      <td>2004-04-20</td>\n",
       "    </tr>\n",
       "    <tr>\n",
       "      <th>8029</th>\n",
       "      <td>NY000000000008510547</td>\n",
       "      <td>BLK</td>\n",
       "      <td>2001-12-13</td>\n",
       "    </tr>\n",
       "    <tr>\n",
       "      <th>8030</th>\n",
       "      <td>NY000000000008510548</td>\n",
       "      <td>BLK</td>\n",
       "      <td>2001-12-13</td>\n",
       "    </tr>\n",
       "  </tbody>\n",
       "</table>\n",
       "<p>17083 rows × 3 columns</p>\n",
       "</div>"
      ],
      "text/plain": [
       "                        sboeid enrollment     regdate\n",
       "1508804   NY000000000003306104        WOR  2007-05-16\n",
       "20980570  NY000000000003306104        WOR  2007-05-16\n",
       "1508805   NY000000000003306105        REP  2006-10-26\n",
       "14284189  NY000000000003306105        REP  2012-09-07\n",
       "27544462  NY000000000003306105        REP  2012-09-07\n",
       "...                        ...        ...         ...\n",
       "20151901  NY000000000008510545        REP  1999-09-30\n",
       "8028      NY000000000008510546        REP  2004-04-20\n",
       "20151902  NY000000000008510546        REP  2004-04-20\n",
       "8029      NY000000000008510547        BLK  2001-12-13\n",
       "8030      NY000000000008510548        BLK  2001-12-13\n",
       "\n",
       "[17083 rows x 3 columns]"
      ]
     },
     "execution_count": 75,
     "metadata": {},
     "output_type": "execute_result"
    }
   ],
   "source": [
    "# Get the first 10000 frames (groups)\n",
    "first_ten_frames = pd.DataFrame()\n",
    "\n",
    "for i, (_, group) in enumerate(gby):\n",
    "    if i < 10000:\n",
    "        first_ten_frames = pd.concat([first_ten_frames, group])\n",
    "    else:\n",
    "        break\n",
    "\n",
    "first_ten_frames"
   ]
  },
  {
   "cell_type": "code",
   "execution_count": 76,
   "metadata": {},
   "outputs": [
    {
     "data": {
      "text/html": [
       "<div>\n",
       "<style scoped>\n",
       "    .dataframe tbody tr th:only-of-type {\n",
       "        vertical-align: middle;\n",
       "    }\n",
       "\n",
       "    .dataframe tbody tr th {\n",
       "        vertical-align: top;\n",
       "    }\n",
       "\n",
       "    .dataframe thead th {\n",
       "        text-align: right;\n",
       "    }\n",
       "</style>\n",
       "<table border=\"1\" class=\"dataframe\">\n",
       "  <thead>\n",
       "    <tr style=\"text-align: right;\">\n",
       "      <th></th>\n",
       "      <th>switched</th>\n",
       "      <th>from</th>\n",
       "    </tr>\n",
       "  </thead>\n",
       "  <tbody>\n",
       "    <tr>\n",
       "      <th>1508804</th>\n",
       "      <td>0</td>\n",
       "      <td>NaN</td>\n",
       "    </tr>\n",
       "    <tr>\n",
       "      <th>20980570</th>\n",
       "      <td>0</td>\n",
       "      <td>NaN</td>\n",
       "    </tr>\n",
       "    <tr>\n",
       "      <th>1508805</th>\n",
       "      <td>0</td>\n",
       "      <td>NaN</td>\n",
       "    </tr>\n",
       "    <tr>\n",
       "      <th>14284189</th>\n",
       "      <td>0</td>\n",
       "      <td>NaN</td>\n",
       "    </tr>\n",
       "    <tr>\n",
       "      <th>27544462</th>\n",
       "      <td>0</td>\n",
       "      <td>NaN</td>\n",
       "    </tr>\n",
       "    <tr>\n",
       "      <th>...</th>\n",
       "      <td>...</td>\n",
       "      <td>...</td>\n",
       "    </tr>\n",
       "    <tr>\n",
       "      <th>20151901</th>\n",
       "      <td>0</td>\n",
       "      <td>NaN</td>\n",
       "    </tr>\n",
       "    <tr>\n",
       "      <th>8028</th>\n",
       "      <td>0</td>\n",
       "      <td>NaN</td>\n",
       "    </tr>\n",
       "    <tr>\n",
       "      <th>20151902</th>\n",
       "      <td>0</td>\n",
       "      <td>NaN</td>\n",
       "    </tr>\n",
       "    <tr>\n",
       "      <th>8029</th>\n",
       "      <td>0</td>\n",
       "      <td>NaN</td>\n",
       "    </tr>\n",
       "    <tr>\n",
       "      <th>8030</th>\n",
       "      <td>0</td>\n",
       "      <td>NaN</td>\n",
       "    </tr>\n",
       "  </tbody>\n",
       "</table>\n",
       "<p>17083 rows × 2 columns</p>\n",
       "</div>"
      ],
      "text/plain": [
       "          switched from\n",
       "1508804          0  NaN\n",
       "20980570         0  NaN\n",
       "1508805          0  NaN\n",
       "14284189         0  NaN\n",
       "27544462         0  NaN\n",
       "...            ...  ...\n",
       "20151901         0  NaN\n",
       "8028             0  NaN\n",
       "20151902         0  NaN\n",
       "8029             0  NaN\n",
       "8030             0  NaN\n",
       "\n",
       "[17083 rows x 2 columns]"
      ]
     },
     "execution_count": 76,
     "metadata": {},
     "output_type": "execute_result"
    }
   ],
   "source": [
    "# group by obj\n",
    "test_gby = first_ten_frames.groupby('sboeid')\n",
    "\n",
    "# new columns\n",
    "sample = pd.DataFrame()\n",
    "sample['switched'] = test_gby['enrollment'].apply(lambda x: x != x.shift()).astype(int)\n",
    "sample.reset_index(inplace=True, level = 'sboeid', drop = True)\n",
    "sample['from'] = test_gby['enrollment'].shift()\n",
    "\n",
    "# when from is nan, assign switched to 0, when switched is 0, assign from to nan\n",
    "sample.loc[(sample['from'].isna() == True),'switched'] = 0\n",
    "sample.loc[(sample['switched'] == 0),'from'] = np.nan\n",
    "\n",
    "sample"
   ]
  },
  {
   "cell_type": "code",
   "execution_count": 77,
   "metadata": {},
   "outputs": [
    {
     "name": "stdout",
     "output_type": "stream",
     "text": [
      "True\n",
      "                        sboeid enrollment     regdate  switched from\n",
      "1508804   NY000000000003306104        WOR  2007-05-16         0  NaN\n",
      "20980570  NY000000000003306104        WOR  2007-05-16         0  NaN\n",
      "1508805   NY000000000003306105        REP  2006-10-26         0  NaN\n",
      "14284189  NY000000000003306105        REP  2012-09-07         0  NaN\n",
      "27544462  NY000000000003306105        REP  2012-09-07         0  NaN\n",
      "...                        ...        ...         ...       ...  ...\n",
      "20151901  NY000000000008510545        REP  1999-09-30         0  NaN\n",
      "8028      NY000000000008510546        REP  2004-04-20         0  NaN\n",
      "20151902  NY000000000008510546        REP  2004-04-20         0  NaN\n",
      "8029      NY000000000008510547        BLK  2001-12-13         0  NaN\n",
      "8030      NY000000000008510548        BLK  2001-12-13         0  NaN\n",
      "\n",
      "[17083 rows x 5 columns]\n"
     ]
    }
   ],
   "source": [
    "# merge two dataset on index\n",
    "new = first_ten_frames.join(sample, how = 'left')\n",
    "print(len(new) == len(sample))\n",
    "print(new)"
   ]
  },
  {
   "cell_type": "markdown",
   "metadata": {},
   "source": [
    "1.4s * 1956 / 60 ~ 45 min"
   ]
  },
  {
   "cell_type": "markdown",
   "metadata": {},
   "source": [
    "the whole dataset"
   ]
  },
  {
   "cell_type": "code",
   "execution_count": 78,
   "metadata": {},
   "outputs": [
    {
     "data": {
      "text/html": [
       "<div>\n",
       "<style scoped>\n",
       "    .dataframe tbody tr th:only-of-type {\n",
       "        vertical-align: middle;\n",
       "    }\n",
       "\n",
       "    .dataframe tbody tr th {\n",
       "        vertical-align: top;\n",
       "    }\n",
       "\n",
       "    .dataframe thead th {\n",
       "        text-align: right;\n",
       "    }\n",
       "</style>\n",
       "<table border=\"1\" class=\"dataframe\">\n",
       "  <thead>\n",
       "    <tr style=\"text-align: right;\">\n",
       "      <th></th>\n",
       "      <th>switched</th>\n",
       "      <th>from</th>\n",
       "    </tr>\n",
       "  </thead>\n",
       "  <tbody>\n",
       "    <tr>\n",
       "      <th>1508804</th>\n",
       "      <td>0</td>\n",
       "      <td>NaN</td>\n",
       "    </tr>\n",
       "    <tr>\n",
       "      <th>20980570</th>\n",
       "      <td>0</td>\n",
       "      <td>NaN</td>\n",
       "    </tr>\n",
       "    <tr>\n",
       "      <th>1508805</th>\n",
       "      <td>0</td>\n",
       "      <td>NaN</td>\n",
       "    </tr>\n",
       "    <tr>\n",
       "      <th>14284189</th>\n",
       "      <td>0</td>\n",
       "      <td>NaN</td>\n",
       "    </tr>\n",
       "    <tr>\n",
       "      <th>27544462</th>\n",
       "      <td>0</td>\n",
       "      <td>NaN</td>\n",
       "    </tr>\n",
       "  </tbody>\n",
       "</table>\n",
       "</div>"
      ],
      "text/plain": [
       "          switched from\n",
       "1508804          0  NaN\n",
       "20980570         0  NaN\n",
       "1508805          0  NaN\n",
       "14284189         0  NaN\n",
       "27544462         0  NaN"
      ]
     },
     "execution_count": 78,
     "metadata": {},
     "output_type": "execute_result"
    }
   ],
   "source": [
    "# new columns\n",
    "new_col = pd.DataFrame()\n",
    "new_col['switched'] = gby['enrollment'].apply(lambda x: x != x.shift()).astype(int)\n",
    "new_col.reset_index(inplace=True, level = 'sboeid', drop = True)\n",
    "new_col['from'] = gby['enrollment'].shift()\n",
    "\n",
    "# when from is nan, assign switched to 0, when switched is 0, assign from to nan\n",
    "new_col.loc[(new_col['from'].isna() == True),'switched'] = 0\n",
    "new_col.loc[(new_col['switched'] == 0),'from'] = np.nan\n",
    "\n",
    "new_col.head()"
   ]
  },
  {
   "cell_type": "code",
   "execution_count": 79,
   "metadata": {},
   "outputs": [
    {
     "name": "stdout",
     "output_type": "stream",
     "text": [
      "True\n",
      "                 sboeid         dob gender     regdate vrsource status  \\\n",
      "0  NY000000000003306194  1971-03-31      F  1989-04-13     CBOE      P   \n",
      "1  NY000000000003306195  1972-06-01      M  1990-06-07     CBOE      A   \n",
      "2  NY000000000003306196  1972-07-21      M  1991-01-15      DMV      A   \n",
      "3  NY000000000003306197  1956-11-06      M  1993-02-26     MAIL      I   \n",
      "4  NY000000000003306198  1975-11-25      F  1993-12-02     CBOE      A   \n",
      "\n",
      "  reasoncode  inact_date  purge_date lastvoteddate  ...    cd    sd     ad  \\\n",
      "0      MOVED         NaN  2014-06-11    2012-11-06  ...  26.0  62.0  140.0   \n",
      "1        NaN         NaN         NaN           NaN  ...  27.0  62.0  144.0   \n",
      "2        NaN         NaN         NaN           NaN  ...  27.0  62.0  145.0   \n",
      "3  MAILCHECK  2015-08-05         NaN    2012-11-06  ...  27.0  62.0  144.0   \n",
      "4        NaN         NaN         NaN    2020-11-03  ...  27.0  62.0  146.0   \n",
      "\n",
      "   prevyearvoted prevcounty prevaddress prevname countyvrnumber switched from  \n",
      "0            NaN                    NaN      NaN        M098132        0  NaN  \n",
      "1            NaN                    NaN      NaN        M105403        0  NaN  \n",
      "2            NaN                    NaN      NaN        M109185        0  NaN  \n",
      "3            NaN                    NaN      NaN        M136177        0  NaN  \n",
      "4            NaN                    NaN      NaN        M142110        0  NaN  \n",
      "\n",
      "[5 rows x 41 columns]\n"
     ]
    }
   ],
   "source": [
    "# merge two dataset on index\n",
    "new_result= result.join(new_col, how = 'left')\n",
    "print(len(new_result) == len(new_col))\n",
    "print(new_result.head())"
   ]
  },
  {
   "cell_type": "code",
   "execution_count": 80,
   "metadata": {},
   "outputs": [],
   "source": [
    "file_name = 'progress_3_20_24.csv'\n",
    "new_result.to_csv(file_name, index=False)"
   ]
  },
  {
   "cell_type": "code",
   "execution_count": null,
   "metadata": {},
   "outputs": [
    {
     "data": {
      "text/html": [
       "<div>\n",
       "<style scoped>\n",
       "    .dataframe tbody tr th:only-of-type {\n",
       "        vertical-align: middle;\n",
       "    }\n",
       "\n",
       "    .dataframe tbody tr th {\n",
       "        vertical-align: top;\n",
       "    }\n",
       "\n",
       "    .dataframe thead th {\n",
       "        text-align: right;\n",
       "    }\n",
       "</style>\n",
       "<table border=\"1\" class=\"dataframe\">\n",
       "  <thead>\n",
       "    <tr style=\"text-align: right;\">\n",
       "      <th></th>\n",
       "      <th>sboeid</th>\n",
       "      <th>enrollment</th>\n",
       "      <th>from</th>\n",
       "      <th>switched</th>\n",
       "    </tr>\n",
       "  </thead>\n",
       "  <tbody>\n",
       "    <tr>\n",
       "      <th>5396</th>\n",
       "      <td>NY000000000008507914</td>\n",
       "      <td>IND</td>\n",
       "      <td>NaN</td>\n",
       "      <td>0</td>\n",
       "    </tr>\n",
       "    <tr>\n",
       "      <th>313441</th>\n",
       "      <td>NY000000000008507914</td>\n",
       "      <td>DEM</td>\n",
       "      <td>IND</td>\n",
       "      <td>1</td>\n",
       "    </tr>\n",
       "  </tbody>\n",
       "</table>\n",
       "</div>"
      ],
      "text/plain": [
       "                      sboeid enrollment from  switched\n",
       "5396    NY000000000008507914        IND  NaN         0\n",
       "313441  NY000000000008507914        DEM  IND         1"
      ]
     },
     "execution_count": 89,
     "metadata": {},
     "output_type": "execute_result"
    }
   ],
   "source": [
    "# check the result\n",
    "\n",
    "selected_col = ['sboeid','enrollment', 'from', 'switched']\n",
    "# new_result.loc[new_result['switched'] == 1, selected_col].head()\n",
    "new_result.loc[new_result['sboeid'] == 'NY000000000008507914', selected_col]"
   ]
  },
  {
   "cell_type": "markdown",
   "metadata": {},
   "source": [
    "### problems"
   ]
  },
  {
   "cell_type": "markdown",
   "metadata": {},
   "source": [
    "#### loading"
   ]
  },
  {
   "cell_type": "code",
   "execution_count": null,
   "metadata": {},
   "outputs": [
    {
     "name": "stderr",
     "output_type": "stream",
     "text": [
      "C:\\Users\\LL\\AppData\\Local\\Temp\\ipykernel_16312\\484325796.py:3: DtypeWarning: Columns (7,8,9,12,15,16,18,19,21,24,30,36,37,38) have mixed types. Specify dtype option on import or set low_memory=False.\n",
      "  new_result = pd.read_csv('C:/Users/LL/Documents/voter_analysis/progress_3_20_24.csv',\n"
     ]
    }
   ],
   "source": [
    "# import\n",
    "\n",
    "new_result = pd.read_csv('C:/Users/LL/Documents/voter_analysis/progress_3_20_24.csv',\n",
    "                         dtype = {'gender': 'category', 'from': 'category', 'enrollment': 'category', 'vrsource': 'category', 'status': 'category', 'reasoncode': 'category', 'countycode': 'category', 'idrequired': 'category', 'idmet': 'category'})"
   ]
  },
  {
   "cell_type": "code",
   "execution_count": null,
   "metadata": {},
   "outputs": [
    {
     "data": {
      "text/html": [
       "<div>\n",
       "<style scoped>\n",
       "    .dataframe tbody tr th:only-of-type {\n",
       "        vertical-align: middle;\n",
       "    }\n",
       "\n",
       "    .dataframe tbody tr th {\n",
       "        vertical-align: top;\n",
       "    }\n",
       "\n",
       "    .dataframe thead th {\n",
       "        text-align: right;\n",
       "    }\n",
       "</style>\n",
       "<table border=\"1\" class=\"dataframe\">\n",
       "  <thead>\n",
       "    <tr style=\"text-align: right;\">\n",
       "      <th></th>\n",
       "      <th>sboeid</th>\n",
       "      <th>enrollment</th>\n",
       "      <th>from</th>\n",
       "      <th>switched</th>\n",
       "    </tr>\n",
       "  </thead>\n",
       "  <tbody>\n",
       "    <tr>\n",
       "      <th>0</th>\n",
       "      <td>NY000000000003306194</td>\n",
       "      <td>DEM</td>\n",
       "      <td>NaN</td>\n",
       "      <td>0</td>\n",
       "    </tr>\n",
       "    <tr>\n",
       "      <th>1</th>\n",
       "      <td>NY000000000003306195</td>\n",
       "      <td>REP</td>\n",
       "      <td>NaN</td>\n",
       "      <td>0</td>\n",
       "    </tr>\n",
       "    <tr>\n",
       "      <th>2</th>\n",
       "      <td>NY000000000003306196</td>\n",
       "      <td>DEM</td>\n",
       "      <td>NaN</td>\n",
       "      <td>0</td>\n",
       "    </tr>\n",
       "    <tr>\n",
       "      <th>3</th>\n",
       "      <td>NY000000000003306197</td>\n",
       "      <td>REP</td>\n",
       "      <td>NaN</td>\n",
       "      <td>0</td>\n",
       "    </tr>\n",
       "    <tr>\n",
       "      <th>4</th>\n",
       "      <td>NY000000000003306198</td>\n",
       "      <td>DEM</td>\n",
       "      <td>NaN</td>\n",
       "      <td>0</td>\n",
       "    </tr>\n",
       "    <tr>\n",
       "      <th>5</th>\n",
       "      <td>NY000000000003306199</td>\n",
       "      <td>BLK</td>\n",
       "      <td>NaN</td>\n",
       "      <td>0</td>\n",
       "    </tr>\n",
       "    <tr>\n",
       "      <th>6</th>\n",
       "      <td>NY000000000003306200</td>\n",
       "      <td>DEM</td>\n",
       "      <td>NaN</td>\n",
       "      <td>0</td>\n",
       "    </tr>\n",
       "    <tr>\n",
       "      <th>7</th>\n",
       "      <td>NY000000000003306201</td>\n",
       "      <td>IND</td>\n",
       "      <td>NaN</td>\n",
       "      <td>0</td>\n",
       "    </tr>\n",
       "    <tr>\n",
       "      <th>8</th>\n",
       "      <td>NY000000000003306202</td>\n",
       "      <td>CON</td>\n",
       "      <td>NaN</td>\n",
       "      <td>0</td>\n",
       "    </tr>\n",
       "    <tr>\n",
       "      <th>9</th>\n",
       "      <td>NY000000000003306203</td>\n",
       "      <td>DEM</td>\n",
       "      <td>NaN</td>\n",
       "      <td>0</td>\n",
       "    </tr>\n",
       "    <tr>\n",
       "      <th>10</th>\n",
       "      <td>NY000000000003306204</td>\n",
       "      <td>IND</td>\n",
       "      <td>NaN</td>\n",
       "      <td>0</td>\n",
       "    </tr>\n",
       "  </tbody>\n",
       "</table>\n",
       "</div>"
      ],
      "text/plain": [
       "                  sboeid enrollment from  switched\n",
       "0   NY000000000003306194        DEM  NaN         0\n",
       "1   NY000000000003306195        REP  NaN         0\n",
       "2   NY000000000003306196        DEM  NaN         0\n",
       "3   NY000000000003306197        REP  NaN         0\n",
       "4   NY000000000003306198        DEM  NaN         0\n",
       "5   NY000000000003306199        BLK  NaN         0\n",
       "6   NY000000000003306200        DEM  NaN         0\n",
       "7   NY000000000003306201        IND  NaN         0\n",
       "8   NY000000000003306202        CON  NaN         0\n",
       "9   NY000000000003306203        DEM  NaN         0\n",
       "10  NY000000000003306204        IND  NaN         0"
      ]
     },
     "metadata": {},
     "output_type": "display_data"
    }
   ],
   "source": [
    "selected_col = ['sboeid','enrollment', 'from', 'switched']\n",
    "\n",
    "new_result.loc[:10, selected_col]"
   ]
  },
  {
   "cell_type": "markdown",
   "metadata": {},
   "source": [
    "\n",
    "if we remove one record from those people we should remove everything: <br>\n",
    "\n",
    "bad register date?? <br>\n",
    "verify because we need switching_date <br>\n",
    "but how, year_diff is affected by both dob and regdate <br>"
   ]
  },
  {
   "cell_type": "code",
   "execution_count": null,
   "metadata": {},
   "outputs": [],
   "source": [
    "# new_result['dob'] = pd.to_datetime(new_result['dob'])\n",
    "# new_result['regdate'] = pd.to_datetime(new_result['regdate'])"
   ]
  },
  {
   "cell_type": "markdown",
   "metadata": {},
   "source": []
  },
  {
   "cell_type": "markdown",
   "metadata": {},
   "source": [
    "#### purged \n",
    "remove reasoncode: COURT, DUPLICATE <br>\n",
    "INACTIVE: can be purged when stay inactive for too long, doesn't matter when examining switching behavior as long as they are allow to enter later."
   ]
  },
  {
   "cell_type": "markdown",
   "metadata": {},
   "source": [
    "remove DUPLICATE 7 voters"
   ]
  },
  {
   "cell_type": "code",
   "execution_count": 112,
   "metadata": {},
   "outputs": [],
   "source": [
    "dup_ids = set()\n",
    "dup_ids.update(new_result.loc[(new_result['reasoncode'] == 'DUPLICATE'), 'sboeid'])\n",
    "# len(dup_ids) # 4\n",
    "\n",
    "new_result = new_result[~(new_result['sboeid'].isin(dup_ids))]"
   ]
  },
  {
   "cell_type": "markdown",
   "metadata": {},
   "source": [
    "remove COURT 69652 voters"
   ]
  },
  {
   "cell_type": "code",
   "execution_count": 113,
   "metadata": {},
   "outputs": [],
   "source": [
    "# reasoncode instead\n",
    "# COURT: 67354\n",
    "# COURT & P: 67354\n",
    "\n",
    "# len(new_result.loc[(new_result['reasoncode'] == 'COURT') & (new_result['status'] == 'P')])\n",
    "\n",
    "court_ids = set()\n",
    "court_ids.update(new_result.loc[(new_result['reasoncode'] == 'COURT'), 'sboeid'])\n",
    "# len(court_ids) # 67328\n",
    "\n",
    "new_result = new_result[~(new_result['sboeid'].isin(court_ids))]"
   ]
  },
  {
   "cell_type": "markdown",
   "metadata": {},
   "source": [
    "#### remove year_diff more than 120 8 voters"
   ]
  },
  {
   "cell_type": "code",
   "execution_count": 115,
   "metadata": {},
   "outputs": [
    {
     "name": "stdout",
     "output_type": "stream",
     "text": [
      "8\n"
     ]
    }
   ],
   "source": [
    "year_diff_toobig_ids = set()\n",
    "year_diff_toobig_ids.update(new_result.loc[(new_result['year_diff'] > 120), 'sboeid'])\n",
    "print(len(year_diff_toobig_ids))\n",
    "\n",
    "new_result = new_result[~(new_result['sboeid'].isin(year_diff_toobig_ids))]"
   ]
  },
  {
   "cell_type": "code",
   "execution_count": 119,
   "metadata": {},
   "outputs": [],
   "source": [
    "# change type to int8\n",
    "new_result['year_diff'] = new_result['year_diff'].astype('int8')"
   ]
  },
  {
   "cell_type": "markdown",
   "metadata": {},
   "source": [
    "#### more examining"
   ]
  },
  {
   "cell_type": "markdown",
   "metadata": {},
   "source": [
    " status = 17 <br>\n",
    " pre-register: 141365 <br>\n",
    "pre-register & enrolled: 74740 <br>\n",
    "pre-reg people: 141358 <br>"
   ]
  },
  {
   "cell_type": "markdown",
   "metadata": {},
   "source": [
    "-------------------------------------------- <br>\n",
    "system flaws: <br>\n",
    "those who got updated have VERY inconsistent records: hard to determine if they actively registered again or no so we assume: not automatically active upon turning 18 <br>\n",
    "they can vote while being '17', which means the system don't autometically update the record when they turn 18, who would build a system like this?? isn't this the whole purpose of PRE register? <br>\n",
    "\n",
    "human error (that could have been avoided by having a more robust system): <br>\n",
    "got assigned the wrong status code, too old to be '17' <br>\n",
    "\n",
    "also, some of the register dates are the same when they became active and some are not? moreover, WHO built this system?? <br>\n",
    "somebody's birthday changed?? dude don't you put restraint on your database??? ever heard of data integrity?? <br>\n",
    "\n",
    "it means I can't trust the DE at all and I have to verify everything"
   ]
  },
  {
   "cell_type": "code",
   "execution_count": 79,
   "metadata": {},
   "outputs": [
    {
     "data": {
      "text/plain": [
       "141358"
      ]
     },
     "execution_count": 79,
     "metadata": {},
     "output_type": "execute_result"
    }
   ],
   "source": [
    "# print(len(new_result.loc[(new_result['status'] == '17')])) # pre-reg\n",
    "\n",
    "# print(new_result.loc[(new_result['status'] == '17') & (new_result['enrollment'] != 'BLK')])  # pre-reg & enrolled\n",
    "\n",
    "prereg_ids = set()\n",
    "prereg_ids.update(new_result.loc[(new_result['status'] == '17'), 'sboeid'])\n",
    "len(prereg_ids)"
   ]
  },
  {
   "cell_type": "code",
   "execution_count": null,
   "metadata": {},
   "outputs": [],
   "source": []
  },
  {
   "cell_type": "markdown",
   "metadata": {},
   "source": [
    "------------------------------------------------------ <br>\n",
    "potentially corrupted columns (that we can tell): (descending in terms of importance)<br>\n",
    "\n",
    "dob (i dont believe it) <br>\n",
    "regdate <br>\n",
    "status <br>\n",
    "reasoncode <br>\n",
    "lastvoteddate ~ verify against voterhistory <br>\n",
    "\n",
    "inact_date, purge_date <br>\n",
    "\n",
    "---- <br>\n",
    "more cleaning plan: <br>\n",
    "\n",
    "lastvotedyear is not necessary and are mostly just nan <br>\n",
    "lastvoteddate can be verified against voterhistory <br>\n",
    "\n",
    "---- <br>\n",
    "Also what is up with the dictionary? There is no way to tell under what condition they update data in what way <br>"
   ]
  },
  {
   "cell_type": "markdown",
   "metadata": {},
   "source": [
    "##### loc verify"
   ]
  },
  {
   "cell_type": "markdown",
   "metadata": {},
   "source": [
    "reason code doesn't match status (purged for inactive reasons) <br>"
   ]
  },
  {
   "cell_type": "code",
   "execution_count": 98,
   "metadata": {},
   "outputs": [
    {
     "data": {
      "text/plain": [
       "reasoncode\n",
       "OTHER          2712364\n",
       "MOVED          2322749\n",
       "DEATH          1448169\n",
       "MAILCHECK      1376590\n",
       "NCOA            465907\n",
       "INACTIVE        275678\n",
       "RETURN-MAIL     260798\n",
       "COURT            67354\n",
       "DUPLICATE            4\n",
       "Name: count, dtype: int64"
      ]
     },
     "execution_count": 98,
     "metadata": {},
     "output_type": "execute_result"
    }
   ],
   "source": [
    "new_result['reasoncode'].value_counts()"
   ]
  },
  {
   "cell_type": "code",
   "execution_count": null,
   "metadata": {},
   "outputs": [
    {
     "data": {
      "text/plain": [
       "0"
      ]
     },
     "execution_count": 99,
     "metadata": {},
     "output_type": "execute_result"
    }
   ],
   "source": [
    "# all records with reasoncode belongs to inactive have inactive status GOOD\n",
    "reasons_inactive = ['MAILCHECK', 'RETURN-MAIL', 'NCOA']\n",
    "len(new_result.loc[(new_result['reasoncode'].isin(reasons_inactive)) & (new_result['status'] != 'I')])"
   ]
  },
  {
   "cell_type": "code",
   "execution_count": 100,
   "metadata": {},
   "outputs": [
    {
     "data": {
      "text/plain": [
       "status\n",
       "A     24288676\n",
       "P      6550640\n",
       "I      2378973\n",
       "17      141365\n",
       "AF       32675\n",
       "AU       10330\n",
       "AM        2344\n",
       "AP           2\n",
       "Name: count, dtype: int64"
      ]
     },
     "execution_count": 100,
     "metadata": {},
     "output_type": "execute_result"
    }
   ],
   "source": [
    "new_result['status'].value_counts()"
   ]
  },
  {
   "cell_type": "code",
   "execution_count": null,
   "metadata": {},
   "outputs": [
    {
     "data": {
      "text/plain": [
       "0"
      ]
     },
     "execution_count": 103,
     "metadata": {},
     "output_type": "execute_result"
    }
   ],
   "source": [
    "# no record that has reasoncode present for purging but not inactive or purged GOOD\n",
    "reasons_present = ['OTHER', 'MOVED', 'DEATH', 'INACTIVE', 'COURT', 'DUPLICATE', 'MAILCHECK', 'NCOA', 'RETURN-MAIL']\n",
    "status_active = ['A', '17', 'AF', 'AU', 'AM', 'AP']\n",
    "len(new_result.loc[(new_result['reasoncode'].isin(reasons_present)) \n",
    "                   & (new_result['status'].isin(status_active)) \n",
    "                   & (new_result['status'].isna() == False)])"
   ]
  },
  {
   "cell_type": "markdown",
   "metadata": {},
   "source": [
    "assigned wrong status - status: 17 when too old 8 voters <br>"
   ]
  },
  {
   "cell_type": "code",
   "execution_count": 130,
   "metadata": {},
   "outputs": [],
   "source": [
    "examining_col = ['dob', 'regdate', 'year_diff', 'status']\n",
    "len(new_result.loc[(new_result['status'] == '17') & (new_result['year_diff'] > 18), examining_col])\n",
    "\n",
    "# generating voter ids\n",
    "not_actually_17_ids = set()\n",
    "not_actually_17_ids.update(new_result.loc[(new_result['status'] == '17') & (new_result['year_diff'] > 18), 'sboeid'])"
   ]
  },
  {
   "cell_type": "code",
   "execution_count": 131,
   "metadata": {},
   "outputs": [],
   "source": [
    "new_result = new_result[~(new_result['sboeid'].isin(not_actually_17_ids))]"
   ]
  },
  {
   "cell_type": "markdown",
   "metadata": {},
   "source": [
    "##### groupby verify"
   ]
  },
  {
   "cell_type": "markdown",
   "metadata": {},
   "source": [
    "wrong reason code - death then come back  253 voters <br>"
   ]
  },
  {
   "cell_type": "code",
   "execution_count": null,
   "metadata": {},
   "outputs": [],
   "source": [
    "deseased_ids = set()\n",
    "deseased_ids.update(new_result.loc[(new_result['reasoncode'] == 'DEATH'), 'sboeid'])\n",
    "\n",
    "deseased_df = new_result.loc[(new_result['sboeid'].isin(deseased_ids))].sort_values('regdate')\n",
    "\n",
    "last_reason = deseased_df.groupby('sboeid')['reasoncode'].last().reset_index()"
   ]
  },
  {
   "cell_type": "code",
   "execution_count": null,
   "metadata": {},
   "outputs": [
    {
     "data": {
      "text/html": [
       "<div>\n",
       "<style scoped>\n",
       "    .dataframe tbody tr th:only-of-type {\n",
       "        vertical-align: middle;\n",
       "    }\n",
       "\n",
       "    .dataframe tbody tr th {\n",
       "        vertical-align: top;\n",
       "    }\n",
       "\n",
       "    .dataframe thead th {\n",
       "        text-align: right;\n",
       "    }\n",
       "</style>\n",
       "<table border=\"1\" class=\"dataframe\">\n",
       "  <thead>\n",
       "    <tr style=\"text-align: right;\">\n",
       "      <th></th>\n",
       "      <th>sboeid</th>\n",
       "      <th>dob</th>\n",
       "      <th>gender</th>\n",
       "      <th>regdate</th>\n",
       "      <th>vrsource</th>\n",
       "      <th>status</th>\n",
       "      <th>reasoncode</th>\n",
       "      <th>inact_date</th>\n",
       "      <th>purge_date</th>\n",
       "      <th>lastvoteddate</th>\n",
       "      <th>...</th>\n",
       "      <th>cd</th>\n",
       "      <th>sd</th>\n",
       "      <th>ad</th>\n",
       "      <th>prevyearvoted</th>\n",
       "      <th>prevcounty</th>\n",
       "      <th>prevaddress</th>\n",
       "      <th>prevname</th>\n",
       "      <th>countyvrnumber</th>\n",
       "      <th>switched</th>\n",
       "      <th>from</th>\n",
       "    </tr>\n",
       "  </thead>\n",
       "  <tbody>\n",
       "    <tr>\n",
       "      <th>5155346</th>\n",
       "      <td>NY000000000009254279</td>\n",
       "      <td>1946-08-22</td>\n",
       "      <td>M</td>\n",
       "      <td>1994-10-14</td>\n",
       "      <td>CBOE</td>\n",
       "      <td>P</td>\n",
       "      <td>DEATH</td>\n",
       "      <td>NaN</td>\n",
       "      <td>2010-11-19</td>\n",
       "      <td>NaN</td>\n",
       "      <td>...</td>\n",
       "      <td>25.0</td>\n",
       "      <td>55.0</td>\n",
       "      <td>137.0</td>\n",
       "      <td>NaN</td>\n",
       "      <td></td>\n",
       "      <td>NaN</td>\n",
       "      <td>NaN</td>\n",
       "      <td>008902245</td>\n",
       "      <td>0</td>\n",
       "      <td>NaN</td>\n",
       "    </tr>\n",
       "    <tr>\n",
       "      <th>180956</th>\n",
       "      <td>NY000000000009254279</td>\n",
       "      <td>1946-08-22</td>\n",
       "      <td>M</td>\n",
       "      <td>2000-09-25</td>\n",
       "      <td>CBOE</td>\n",
       "      <td>P</td>\n",
       "      <td>MOVED</td>\n",
       "      <td>NaN</td>\n",
       "      <td>2007-08-08</td>\n",
       "      <td>NaN</td>\n",
       "      <td>...</td>\n",
       "      <td>24.0</td>\n",
       "      <td>50.0</td>\n",
       "      <td>129.0</td>\n",
       "      <td>NaN</td>\n",
       "      <td></td>\n",
       "      <td>NaN</td>\n",
       "      <td>NaN</td>\n",
       "      <td>J41918</td>\n",
       "      <td>0</td>\n",
       "      <td>NaN</td>\n",
       "    </tr>\n",
       "  </tbody>\n",
       "</table>\n",
       "<p>2 rows × 41 columns</p>\n",
       "</div>"
      ],
      "text/plain": [
       "                       sboeid        dob gender    regdate vrsource status  \\\n",
       "5155346  NY000000000009254279 1946-08-22      M 1994-10-14     CBOE      P   \n",
       "180956   NY000000000009254279 1946-08-22      M 2000-09-25     CBOE      P   \n",
       "\n",
       "        reasoncode inact_date  purge_date lastvoteddate  ...    cd    sd  \\\n",
       "5155346      DEATH        NaN  2010-11-19           NaN  ...  25.0  55.0   \n",
       "180956       MOVED        NaN  2007-08-08           NaN  ...  24.0  50.0   \n",
       "\n",
       "            ad  prevyearvoted prevcounty prevaddress prevname countyvrnumber  \\\n",
       "5155346  137.0            NaN                    NaN      NaN      008902245   \n",
       "180956   129.0            NaN                    NaN      NaN         J41918   \n",
       "\n",
       "        switched from  \n",
       "5155346        0  NaN  \n",
       "180956         0  NaN  \n",
       "\n",
       "[2 rows x 41 columns]"
      ]
     },
     "execution_count": 188,
     "metadata": {},
     "output_type": "execute_result"
    }
   ],
   "source": [
    "# it's sorted\n",
    "deseased_df.loc[deseased_df['sboeid'] == 'NY000000000009254279']"
   ]
  },
  {
   "cell_type": "code",
   "execution_count": null,
   "metadata": {},
   "outputs": [
    {
     "data": {
      "text/html": [
       "<div>\n",
       "<style scoped>\n",
       "    .dataframe tbody tr th:only-of-type {\n",
       "        vertical-align: middle;\n",
       "    }\n",
       "\n",
       "    .dataframe tbody tr th {\n",
       "        vertical-align: top;\n",
       "    }\n",
       "\n",
       "    .dataframe thead th {\n",
       "        text-align: right;\n",
       "    }\n",
       "</style>\n",
       "<table border=\"1\" class=\"dataframe\">\n",
       "  <thead>\n",
       "    <tr style=\"text-align: right;\">\n",
       "      <th></th>\n",
       "      <th>sboeid</th>\n",
       "      <th>dob</th>\n",
       "      <th>gender</th>\n",
       "      <th>regdate</th>\n",
       "      <th>vrsource</th>\n",
       "      <th>status</th>\n",
       "      <th>reasoncode</th>\n",
       "      <th>inact_date</th>\n",
       "      <th>purge_date</th>\n",
       "      <th>lastvoteddate</th>\n",
       "      <th>...</th>\n",
       "      <th>cd</th>\n",
       "      <th>sd</th>\n",
       "      <th>ad</th>\n",
       "      <th>prevyearvoted</th>\n",
       "      <th>prevcounty</th>\n",
       "      <th>prevaddress</th>\n",
       "      <th>prevname</th>\n",
       "      <th>countyvrnumber</th>\n",
       "      <th>switched</th>\n",
       "      <th>from</th>\n",
       "    </tr>\n",
       "  </thead>\n",
       "  <tbody>\n",
       "    <tr>\n",
       "      <th>180956</th>\n",
       "      <td>NY000000000009254279</td>\n",
       "      <td>1946-08-22</td>\n",
       "      <td>M</td>\n",
       "      <td>2000-09-25</td>\n",
       "      <td>CBOE</td>\n",
       "      <td>P</td>\n",
       "      <td>MOVED</td>\n",
       "      <td>NaN</td>\n",
       "      <td>2007-08-08</td>\n",
       "      <td>NaN</td>\n",
       "      <td>...</td>\n",
       "      <td>24.0</td>\n",
       "      <td>50.0</td>\n",
       "      <td>129.0</td>\n",
       "      <td>NaN</td>\n",
       "      <td></td>\n",
       "      <td>NaN</td>\n",
       "      <td>NaN</td>\n",
       "      <td>J41918</td>\n",
       "      <td>0</td>\n",
       "      <td>NaN</td>\n",
       "    </tr>\n",
       "    <tr>\n",
       "      <th>5155346</th>\n",
       "      <td>NY000000000009254279</td>\n",
       "      <td>1946-08-22</td>\n",
       "      <td>M</td>\n",
       "      <td>1994-10-14</td>\n",
       "      <td>CBOE</td>\n",
       "      <td>P</td>\n",
       "      <td>DEATH</td>\n",
       "      <td>NaN</td>\n",
       "      <td>2010-11-19</td>\n",
       "      <td>NaN</td>\n",
       "      <td>...</td>\n",
       "      <td>25.0</td>\n",
       "      <td>55.0</td>\n",
       "      <td>137.0</td>\n",
       "      <td>NaN</td>\n",
       "      <td></td>\n",
       "      <td>NaN</td>\n",
       "      <td>NaN</td>\n",
       "      <td>008902245</td>\n",
       "      <td>0</td>\n",
       "      <td>NaN</td>\n",
       "    </tr>\n",
       "  </tbody>\n",
       "</table>\n",
       "<p>2 rows × 41 columns</p>\n",
       "</div>"
      ],
      "text/plain": [
       "                       sboeid        dob gender    regdate vrsource status  \\\n",
       "180956   NY000000000009254279 1946-08-22      M 2000-09-25     CBOE      P   \n",
       "5155346  NY000000000009254279 1946-08-22      M 1994-10-14     CBOE      P   \n",
       "\n",
       "        reasoncode inact_date  purge_date lastvoteddate  ...    cd    sd  \\\n",
       "180956       MOVED        NaN  2007-08-08           NaN  ...  24.0  50.0   \n",
       "5155346      DEATH        NaN  2010-11-19           NaN  ...  25.0  55.0   \n",
       "\n",
       "            ad  prevyearvoted prevcounty prevaddress prevname countyvrnumber  \\\n",
       "180956   129.0            NaN                    NaN      NaN         J41918   \n",
       "5155346  137.0            NaN                    NaN      NaN      008902245   \n",
       "\n",
       "        switched from  \n",
       "180956         0  NaN  \n",
       "5155346        0  NaN  \n",
       "\n",
       "[2 rows x 41 columns]"
      ]
     },
     "execution_count": 184,
     "metadata": {},
     "output_type": "execute_result"
    }
   ],
   "source": [
    "# one example\n",
    "new_result.loc[(new_result['sboeid'] == 'NY000000000009254279')]"
   ]
  },
  {
   "cell_type": "code",
   "execution_count": 190,
   "metadata": {},
   "outputs": [
    {
     "data": {
      "text/plain": [
       "253"
      ]
     },
     "execution_count": 190,
     "metadata": {},
     "output_type": "execute_result"
    }
   ],
   "source": [
    "vampires = set()\n",
    "vampires.update(last_reason.loc[(last_reason['reasoncode'] != 'DEATH'), 'sboeid'])\n",
    "len(vampires)"
   ]
  },
  {
   "cell_type": "code",
   "execution_count": 191,
   "metadata": {},
   "outputs": [],
   "source": [
    "new_result = new_result[~(new_result['sboeid'].isin(vampires))]"
   ]
  },
  {
   "cell_type": "markdown",
   "metadata": {},
   "source": [
    "date of birth changed (remove all voters with corrupted data or try to recover) 21375 voters<br>\n",
    "didn't remove, pickled all the ids"
   ]
  },
  {
   "cell_type": "code",
   "execution_count": null,
   "metadata": {},
   "outputs": [],
   "source": [
    "unique_dob = new_result.groupby('sboeid')['dob'].nunique()\n",
    "dob_counts_df = unique_dob.reset_index()"
   ]
  },
  {
   "cell_type": "code",
   "execution_count": null,
   "metadata": {},
   "outputs": [
    {
     "data": {
      "text/plain": [
       "21375"
      ]
     },
     "execution_count": 221,
     "metadata": {},
     "output_type": "execute_result"
    }
   ],
   "source": [
    "len(dob_counts_df.loc[(dob_counts_df['dob'] != 1)])\n",
    "\n",
    "bad_dob_id = set()\n",
    "bad_dob_id.update(dob_counts_df.loc[(dob_counts_df['dob'] != 1), 'sboeid'])\n",
    "\n",
    "# new_result = new_result[~(new_result['sboeid'].isin(bad_dob_id))]\n",
    "len(bad_dob_id)"
   ]
  },
  {
   "cell_type": "code",
   "execution_count": 222,
   "metadata": {},
   "outputs": [],
   "source": [
    "# pickle the object\n",
    "\n",
    "with open('bad_dob_id.pkl', 'wb') as f:\n",
    "    pickle.dump(bad_dob_id, f)"
   ]
  },
  {
   "cell_type": "markdown",
   "metadata": {},
   "source": [
    "repeating register dates across a few records of one voter - especially when present in 'status' == '17' <br>"
   ]
  },
  {
   "cell_type": "code",
   "execution_count": 204,
   "metadata": {},
   "outputs": [],
   "source": [
    "unique_d_counts = new_result.groupby('sboeid')['regdate'].nunique()\n",
    "group_sizes = new_result.groupby('sboeid').size()"
   ]
  },
  {
   "cell_type": "code",
   "execution_count": 207,
   "metadata": {},
   "outputs": [],
   "source": [
    "counts_df = unique_d_counts.reset_index()\n",
    "sizes_df = group_sizes.reset_index()"
   ]
  },
  {
   "cell_type": "code",
   "execution_count": 208,
   "metadata": {},
   "outputs": [
    {
     "name": "stdout",
     "output_type": "stream",
     "text": [
      "True\n"
     ]
    }
   ],
   "source": [
    "regdate_repeat = pd.merge(counts_df, sizes_df, on='sboeid', how='left')\n",
    "print(len(regdate_repeat) == len(sizes_df))"
   ]
  },
  {
   "cell_type": "code",
   "execution_count": null,
   "metadata": {},
   "outputs": [
    {
     "data": {
      "text/html": [
       "<div>\n",
       "<style scoped>\n",
       "    .dataframe tbody tr th:only-of-type {\n",
       "        vertical-align: middle;\n",
       "    }\n",
       "\n",
       "    .dataframe tbody tr th {\n",
       "        vertical-align: top;\n",
       "    }\n",
       "\n",
       "    .dataframe thead th {\n",
       "        text-align: right;\n",
       "    }\n",
       "</style>\n",
       "<table border=\"1\" class=\"dataframe\">\n",
       "  <thead>\n",
       "    <tr style=\"text-align: right;\">\n",
       "      <th></th>\n",
       "      <th>sboeid</th>\n",
       "      <th>regdate</th>\n",
       "      <th>0</th>\n",
       "    </tr>\n",
       "  </thead>\n",
       "  <tbody>\n",
       "    <tr>\n",
       "      <th>0</th>\n",
       "      <td>NY000000000003306104</td>\n",
       "      <td>1</td>\n",
       "      <td>2</td>\n",
       "    </tr>\n",
       "    <tr>\n",
       "      <th>1</th>\n",
       "      <td>NY000000000003306105</td>\n",
       "      <td>2</td>\n",
       "      <td>3</td>\n",
       "    </tr>\n",
       "    <tr>\n",
       "      <th>3</th>\n",
       "      <td>NY000000000003306107</td>\n",
       "      <td>1</td>\n",
       "      <td>2</td>\n",
       "    </tr>\n",
       "    <tr>\n",
       "      <th>4</th>\n",
       "      <td>NY000000000003306108</td>\n",
       "      <td>2</td>\n",
       "      <td>3</td>\n",
       "    </tr>\n",
       "    <tr>\n",
       "      <th>5</th>\n",
       "      <td>NY000000000003306109</td>\n",
       "      <td>1</td>\n",
       "      <td>2</td>\n",
       "    </tr>\n",
       "    <tr>\n",
       "      <th>...</th>\n",
       "      <td>...</td>\n",
       "      <td>...</td>\n",
       "      <td>...</td>\n",
       "    </tr>\n",
       "    <tr>\n",
       "      <th>18938081</th>\n",
       "      <td>NY000000000060075856</td>\n",
       "      <td>1</td>\n",
       "      <td>2</td>\n",
       "    </tr>\n",
       "    <tr>\n",
       "      <th>18938082</th>\n",
       "      <td>NY000000000060075857</td>\n",
       "      <td>1</td>\n",
       "      <td>2</td>\n",
       "    </tr>\n",
       "    <tr>\n",
       "      <th>18938083</th>\n",
       "      <td>NY000000000060075858</td>\n",
       "      <td>1</td>\n",
       "      <td>2</td>\n",
       "    </tr>\n",
       "    <tr>\n",
       "      <th>18938084</th>\n",
       "      <td>NY000000000060075859</td>\n",
       "      <td>1</td>\n",
       "      <td>2</td>\n",
       "    </tr>\n",
       "    <tr>\n",
       "      <th>19157430</th>\n",
       "      <td>NY000000000060588937</td>\n",
       "      <td>1</td>\n",
       "      <td>2</td>\n",
       "    </tr>\n",
       "  </tbody>\n",
       "</table>\n",
       "<p>11437367 rows × 3 columns</p>\n",
       "</div>"
      ],
      "text/plain": [
       "                        sboeid  regdate  0\n",
       "0         NY000000000003306104        1  2\n",
       "1         NY000000000003306105        2  3\n",
       "3         NY000000000003306107        1  2\n",
       "4         NY000000000003306108        2  3\n",
       "5         NY000000000003306109        1  2\n",
       "...                        ...      ... ..\n",
       "18938081  NY000000000060075856        1  2\n",
       "18938082  NY000000000060075857        1  2\n",
       "18938083  NY000000000060075858        1  2\n",
       "18938084  NY000000000060075859        1  2\n",
       "19157430  NY000000000060588937        1  2\n",
       "\n",
       "[11437367 rows x 3 columns]"
      ]
     },
     "execution_count": 216,
     "metadata": {},
     "output_type": "execute_result"
    }
   ],
   "source": [
    "regdate_repeat.loc[(regdate_repeat['regdate'] != regdate_repeat[0])]\n",
    "# 11437367\n",
    "# too many, can't do"
   ]
  },
  {
   "cell_type": "markdown",
   "metadata": {},
   "source": [
    "### save progress 4th"
   ]
  },
  {
   "cell_type": "code",
   "execution_count": null,
   "metadata": {},
   "outputs": [],
   "source": [
    "progress4_idx = new_result.index\n",
    "\n",
    "with open('progress4_idx.pkl', 'wb') as f:\n",
    "    pickle.dump(progress4_idx, f)"
   ]
  },
  {
   "cell_type": "markdown",
   "metadata": {},
   "source": [
    "### loading\n",
    "i don't believe it vs code you crushed again?"
   ]
  },
  {
   "cell_type": "code",
   "execution_count": 3,
   "metadata": {},
   "outputs": [],
   "source": [
    "with open('progress4_idx.pkl', 'rb') as file:\n",
    "    index = pickle.load(file)"
   ]
  },
  {
   "cell_type": "code",
   "execution_count": 4,
   "metadata": {},
   "outputs": [
    {
     "name": "stderr",
     "output_type": "stream",
     "text": [
      "C:\\Users\\LL\\AppData\\Local\\Temp\\ipykernel_11740\\484325796.py:3: DtypeWarning: Columns (7,8,9,12,15,16,18,19,21,24,30,36,37,38) have mixed types. Specify dtype option on import or set low_memory=False.\n",
      "  new_result = pd.read_csv('C:/Users/LL/Documents/voter_analysis/progress_3_20_24.csv',\n"
     ]
    }
   ],
   "source": [
    "# import\n",
    "\n",
    "new_result = pd.read_csv('C:/Users/LL/Documents/voter_analysis/progress_3_20_24.csv',\n",
    "                         dtype = {'gender': 'category', 'from': 'category', 'enrollment': 'category', 'vrsource': 'category', 'status': 'category', 'reasoncode': 'category', 'countycode': 'category', 'idrequired': 'category', 'idmet': 'category'})"
   ]
  },
  {
   "cell_type": "code",
   "execution_count": 8,
   "metadata": {},
   "outputs": [],
   "source": [
    "new_result = new_result.loc[new_result.index.isin(index)]"
   ]
  },
  {
   "cell_type": "code",
   "execution_count": 11,
   "metadata": {},
   "outputs": [
    {
     "data": {
      "text/plain": [
       "True"
      ]
     },
     "execution_count": 11,
     "metadata": {},
     "output_type": "execute_result"
    }
   ],
   "source": [
    "len(index) == len(new_result)"
   ]
  },
  {
   "cell_type": "markdown",
   "metadata": {},
   "source": [
    "### parse dob, regdate, lastdatevoted"
   ]
  },
  {
   "cell_type": "code",
   "execution_count": 15,
   "metadata": {},
   "outputs": [],
   "source": [
    "dtype_mapping = {\n",
    "    'dob': 'datetime64[ns]',\n",
    "    'regdate': 'datetime64[ns]',\n",
    "    'lastvoteddate': 'datetime64[ns]',\n",
    "}\n",
    "\n",
    "# Use astype() to change datatypes based on the dictionary\n",
    "new_result = new_result.astype(dtype_mapping)"
   ]
  },
  {
   "cell_type": "code",
   "execution_count": 17,
   "metadata": {},
   "outputs": [],
   "source": [
    "new_result['dob_year'] = new_result['dob'].dt.year.astype('category')\n",
    "\n",
    "new_result['lastvoteddate_year'] = new_result['lastvoteddate'].dt.year.astype('category')\n",
    "new_result['lastvoteddate_month'] = new_result['lastvoteddate'].dt.month.astype('category')\n",
    "new_result['lastvoteddate_day'] = new_result['lastvoteddate'].dt.day.astype('category')\n",
    "new_result['lastvoteddate_dayofweek'] = new_result['lastvoteddate'].dt.dayofweek.astype('category')  # Monday=0, Sunday=6\n",
    "\n",
    "new_result['regdate_year'] = new_result['regdate'].dt.year.astype('category')\n",
    "new_result['regdate_month'] = new_result['regdate'].dt.month.astype('category')\n",
    "new_result['regdate_day'] = new_result['regdate'].dt.day.astype('category')\n",
    "new_result['regdate_dayofweek'] = new_result['regdate'].dt.dayofweek.astype('category') # Monday=0, Sunday=6"
   ]
  },
  {
   "cell_type": "markdown",
   "metadata": {},
   "source": [
    "### compress data"
   ]
  },
  {
   "cell_type": "markdown",
   "metadata": {},
   "source": [
    "inspect mixed datatype"
   ]
  },
  {
   "cell_type": "code",
   "execution_count": 26,
   "metadata": {},
   "outputs": [],
   "source": [
    "columns_inspecting = ['inact_date','purge_date', 'voterhistory', 'year_diff', 'rhalfcode', 'rpredirection', 'rstreetname', 'rpostdirection', 'rapartmenttype', 'rapartment', 'raddrnonstd', 'rcity', 'rzip4', 'mailadd1', 'ed', 'ld', 'towncity', 'ward', 'cd', 'sd', 'ad', 'prevyearvoted', 'prevcounty', 'prevaddress', 'prevname', 'countyvrnumber']\n",
    "\n",
    "list_of_types = []\n",
    "\n",
    "for col in columns_inspecting:\n",
    "\n",
    "    types = new_result[col].apply(type)\n",
    "\n",
    "    list_of_types.append(types.value_counts())"
   ]
  },
  {
   "cell_type": "markdown",
   "metadata": {},
   "source": [
    "sboeid                             | object - str <br>\n",
    "\n",
    "inact_date                         | object - float, str <br>\n",
    "purge_date                         | object - float, str <br>\n",
    "\n",
    "voterhistory                       | object - float, str <br>\n",
    "\n",
    "rhalfcode                          | object f s <br>\n",
    "rpredirection                      | object f s <br>\n",
    "rstreetname                        | object f s <br>\n",
    "rpostdirection                     | object f s <br>\n",
    "rapartmenttype                     | object f s <br>\n",
    "rapartment                         | object f s <br>\n",
    "raddrnonstd                        | object f s <br>\n",
    "rcity                              | object f s <br>\n",
    "\n",
    "rzip4                              | object f s <br>\n",
    "mailadd1                           | object f s <br>\n",
    "\n",
    "towncity                           | object f s <br>\n",
    "ward                               | object - float, str, int <br>\n",
    "\n",
    "prevcounty                         | object - string <br>\n",
    "prevaddress                        | object f s <br>\n",
    "prevname                           | object f s <br>\n",
    "countyvrnumber                     | object - str, int <br>"
   ]
  },
  {
   "cell_type": "code",
   "execution_count": null,
   "metadata": {},
   "outputs": [],
   "source": []
  },
  {
   "cell_type": "markdown",
   "metadata": {},
   "source": [
    "potentially categorical: <br>\n",
    "    'ed', \n",
    "    'ld', \n",
    "    'cd', \n",
    "    'sd', \n",
    "    'ad', <br>\n",
    "    'rcity', \n",
    "    'ward', \n",
    "    'prevcounty',\n",
    "    'rzip4',\n",
    "    "
   ]
  },
  {
   "cell_type": "code",
   "execution_count": null,
   "metadata": {},
   "outputs": [
    {
     "data": {
      "text/plain": [
       "array([1948.0, nan, 1936.0, ..., 781.0, 8198.0, 7798.0], dtype=object)"
      ]
     },
     "execution_count": 83,
     "metadata": {},
     "output_type": "execute_result"
    }
   ],
   "source": [
    "# (new_result['rzip4'].unique())"
   ]
  },
  {
   "cell_type": "markdown",
   "metadata": {},
   "source": [
    "##### compressing plan"
   ]
  },
  {
   "cell_type": "code",
   "execution_count": 84,
   "metadata": {},
   "outputs": [],
   "source": [
    "# drop 'prevyearvoted': empty column\n",
    "new_result = new_result.drop(columns = ['prevyearvoted'])"
   ]
  },
  {
   "cell_type": "markdown",
   "metadata": {},
   "source": [
    "problem: do I just assume '1 ' is 01 or no, probably no"
   ]
  },
  {
   "cell_type": "code",
   "execution_count": null,
   "metadata": {},
   "outputs": [],
   "source": [
    "new_result.loc[new_result['prevcounty'] == '1 ', 'prevcounty'] = ' '  # make sure the algo convert it to nan"
   ]
  },
  {
   "cell_type": "code",
   "execution_count": null,
   "metadata": {},
   "outputs": [],
   "source": [
    "# prevcounty convert to int then sort, where were those extra 4 county codes from??? ('  ', '1 ', '99', '63') to int64 then cate\n",
    "\n",
    "new_result['prevcounty'] = pd.to_numeric(new_result['prevcounty'], errors='coerce').astype(\"Int64\")"
   ]
  },
  {
   "cell_type": "code",
   "execution_count": null,
   "metadata": {},
   "outputs": [
    {
     "name": "stdout",
     "output_type": "stream",
     "text": [
      "20892057\n",
      "20892045\n"
     ]
    }
   ],
   "source": [
    "# zipcode plus 4 has strings?? HUh\n",
    "\n",
    "# type_zip4 = new_result['rzip4'].apply(type).astype(str)\n",
    "# wtf_zip4_index = type_zip4[type_zip4 == \"<class 'str'>\"].index\n",
    "# new_result.loc[new_result.index.isin(wtf_zip4_index),'rzip4'] \n",
    "\n",
    "# WHY PANDAS WHY those are strings but look like floats\n",
    "\n",
    "zip4_numeric = pd.to_numeric(new_result['rzip4'], errors=\"coerce\").astype(\"Int64\")\n",
    "print(zip4_numeric.isna().sum())\n",
    "print(new_result['rzip4'].isna().sum())\n",
    "new_result['rzip4'] = zip4_numeric"
   ]
  },
  {
   "cell_type": "code",
   "execution_count": 171,
   "metadata": {},
   "outputs": [],
   "source": [
    "# float remove decimal point and one digit after decimal, convert to categorical data\n",
    "# 'ed', 'ld', 'cd', 'sd', 'ad'\n",
    "new_result['ed'] = new_result['ed'].astype(\"Int64\")\n",
    "new_result['ld'] = new_result['ld'].astype(\"Int64\")\n",
    "new_result['cd'] = new_result['cd'].astype(\"Int64\")\n",
    "new_result['sd'] = new_result['sd'].astype(\"Int64\")\n",
    "new_result['ad'] = new_result['ad'].astype(\"Int64\")"
   ]
  },
  {
   "cell_type": "code",
   "execution_count": 179,
   "metadata": {},
   "outputs": [],
   "source": [
    "# 'rzip5'\n",
    "# I don't even know cuz the length of the zipcode is not consistent, just please fire the dude who wrote this system right now\n",
    "\n",
    "# len() == 7 remove the last two chracters\n",
    "# len() == 6 remove the decimal\n",
    "# len() == 4 idek whatever just remove the decimal\n",
    "\n",
    "zip5 = new_result['rzip5'].astype('string').apply(lambda x: x.replace('.', '') if pd.notna(x) else x).astype('string').apply(lambda x: x[:-1] if pd.notna(x) and len(x) == 6 else x)\n"
   ]
  },
  {
   "cell_type": "code",
   "execution_count": null,
   "metadata": {},
   "outputs": [],
   "source": [
    "new_result = new_result.drop(columns = ['rzip5'])\n",
    "new_result['rzip5'] = zip5.astype('string')"
   ]
  },
  {
   "cell_type": "code",
   "execution_count": 172,
   "metadata": {},
   "outputs": [],
   "source": [
    "# just convert to string then to cate\n",
    "# 'rcity', 'ward'\n",
    "new_result['rcity'] = new_result['rcity'].astype('string')\n",
    "new_result['ward'] = new_result['ward'].astype('string')"
   ]
  },
  {
   "cell_type": "code",
   "execution_count": 187,
   "metadata": {},
   "outputs": [],
   "source": [
    "# prepare for parquet format\n",
    "\n",
    "dtype_mapping_2 = {\n",
    "    # booleans          \n",
    "    'switched': 'bool',\n",
    "    # categorical\n",
    "    'rzip5': 'category',\n",
    "    'rzip4': 'category',\n",
    "    'rcity': 'category',\n",
    "    'ed': 'category', \n",
    "    'ld': 'category', \n",
    "    'cd': 'category', \n",
    "    'sd': 'category', \n",
    "    'ad': 'category',\n",
    "    'prevcounty': 'category',\n",
    "    'rcity': 'category', \n",
    "    'ward': 'category', \n",
    "    # (nullable) datetime64:\n",
    "    'inact_date': 'datetime64[ns]',\n",
    "    'purge_date': 'datetime64[ns]',\n",
    "    # (nullable) integers\n",
    "\n",
    "    # (nullable) strings\n",
    "    'sboeid': 'string',\n",
    "    'voterhistory': 'string',\n",
    "    'rhalfcode': 'string', \n",
    "    'rpredirection': 'string', \n",
    "    'rstreetname': 'string', \n",
    "    'rpostdirection': 'string', \n",
    "    'rapartmenttype': 'string', \n",
    "    'rapartment': 'string', \n",
    "    'raddrnonstd': 'string', \n",
    "    'mailadd1': 'string', \n",
    "    'towncity': 'string', \n",
    "    'prevaddress': 'string', \n",
    "    'prevname': 'string',\n",
    "    'countyvrnumber': \"string\"\n",
    "    }\n",
    "\n",
    "\n",
    "\n",
    "# Use astype() to change datatypes based on the dictionary\n",
    "new_result = new_result.astype(dtype_mapping_2, errors = 'ignore')"
   ]
  },
  {
   "cell_type": "code",
   "execution_count": 188,
   "metadata": {},
   "outputs": [
    {
     "data": {
      "text/plain": [
       "sboeid                     string[python]\n",
       "dob                        datetime64[ns]\n",
       "gender                           category\n",
       "regdate                    datetime64[ns]\n",
       "vrsource                         category\n",
       "status                           category\n",
       "reasoncode                       category\n",
       "inact_date                 datetime64[ns]\n",
       "purge_date                 datetime64[ns]\n",
       "lastvoteddate              datetime64[ns]\n",
       "idrequired                       category\n",
       "idmet                            category\n",
       "voterhistory               string[python]\n",
       "year_diff                         float64\n",
       "enrollment                       category\n",
       "rhalfcode                  string[python]\n",
       "rpredirection              string[python]\n",
       "rstreetname                string[python]\n",
       "rpostdirection             string[python]\n",
       "rapartmenttype             string[python]\n",
       "rapartment                 string[python]\n",
       "raddrnonstd                string[python]\n",
       "rcity                            category\n",
       "rzip4                            category\n",
       "mailadd1                   string[python]\n",
       "countycode                       category\n",
       "ed                               category\n",
       "ld                               category\n",
       "towncity                   string[python]\n",
       "ward                             category\n",
       "cd                               category\n",
       "sd                               category\n",
       "ad                               category\n",
       "prevcounty                       category\n",
       "prevaddress                string[python]\n",
       "prevname                   string[python]\n",
       "countyvrnumber             string[python]\n",
       "switched                             bool\n",
       "from                             category\n",
       "dob_year                         category\n",
       "lastvoteddate_year               category\n",
       "lastvoteddate_month              category\n",
       "lastvoteddate_day                category\n",
       "lastvoteddate_dayofweek          category\n",
       "regdate_year                     category\n",
       "regdate_month                    category\n",
       "regdate_day                      category\n",
       "regdate_dayofweek                category\n",
       "rzip5                            category\n",
       "dtype: object"
      ]
     },
     "execution_count": 188,
     "metadata": {},
     "output_type": "execute_result"
    }
   ],
   "source": [
    "new_result.dtypes"
   ]
  },
  {
   "cell_type": "code",
   "execution_count": 306,
   "metadata": {},
   "outputs": [
    {
     "data": {
      "text/html": [
       "<div>\n",
       "<style scoped>\n",
       "    .dataframe tbody tr th:only-of-type {\n",
       "        vertical-align: middle;\n",
       "    }\n",
       "\n",
       "    .dataframe tbody tr th {\n",
       "        vertical-align: top;\n",
       "    }\n",
       "\n",
       "    .dataframe thead th {\n",
       "        text-align: right;\n",
       "    }\n",
       "</style>\n",
       "<table border=\"1\" class=\"dataframe\">\n",
       "  <thead>\n",
       "    <tr style=\"text-align: right;\">\n",
       "      <th></th>\n",
       "      <th>sboeid</th>\n",
       "      <th>dob</th>\n",
       "      <th>gender</th>\n",
       "      <th>regdate</th>\n",
       "      <th>vrsource</th>\n",
       "      <th>status</th>\n",
       "      <th>reasoncode</th>\n",
       "      <th>inact_date</th>\n",
       "      <th>purge_date</th>\n",
       "      <th>lastvoteddate</th>\n",
       "      <th>...</th>\n",
       "      <th>dob_day</th>\n",
       "      <th>dob_dayofweek</th>\n",
       "      <th>lastvoteddate_year</th>\n",
       "      <th>lastvoteddate_month</th>\n",
       "      <th>lastvoteddate_day</th>\n",
       "      <th>lastvoteddate_dayofweek</th>\n",
       "      <th>regdate_year</th>\n",
       "      <th>regdate_month</th>\n",
       "      <th>regdate_day</th>\n",
       "      <th>regdate_dayofweek</th>\n",
       "    </tr>\n",
       "  </thead>\n",
       "  <tbody>\n",
       "    <tr>\n",
       "      <th>0</th>\n",
       "      <td>NY000000000003306194</td>\n",
       "      <td>1971-03-31</td>\n",
       "      <td>F</td>\n",
       "      <td>1989-04-13</td>\n",
       "      <td>CBOE</td>\n",
       "      <td>P</td>\n",
       "      <td>MOVED</td>\n",
       "      <td>NaT</td>\n",
       "      <td>2014-06-11</td>\n",
       "      <td>2012-11-06</td>\n",
       "      <td>...</td>\n",
       "      <td>31</td>\n",
       "      <td>2</td>\n",
       "      <td>2012.0</td>\n",
       "      <td>11.0</td>\n",
       "      <td>6.0</td>\n",
       "      <td>1.0</td>\n",
       "      <td>1989</td>\n",
       "      <td>4</td>\n",
       "      <td>13</td>\n",
       "      <td>3</td>\n",
       "    </tr>\n",
       "    <tr>\n",
       "      <th>1</th>\n",
       "      <td>NY000000000003306195</td>\n",
       "      <td>1972-06-01</td>\n",
       "      <td>M</td>\n",
       "      <td>1990-06-07</td>\n",
       "      <td>CBOE</td>\n",
       "      <td>A</td>\n",
       "      <td>NaN</td>\n",
       "      <td>NaT</td>\n",
       "      <td>NaT</td>\n",
       "      <td>NaT</td>\n",
       "      <td>...</td>\n",
       "      <td>1</td>\n",
       "      <td>3</td>\n",
       "      <td>NaN</td>\n",
       "      <td>NaN</td>\n",
       "      <td>NaN</td>\n",
       "      <td>NaN</td>\n",
       "      <td>1990</td>\n",
       "      <td>6</td>\n",
       "      <td>7</td>\n",
       "      <td>3</td>\n",
       "    </tr>\n",
       "    <tr>\n",
       "      <th>2</th>\n",
       "      <td>NY000000000003306196</td>\n",
       "      <td>1972-07-21</td>\n",
       "      <td>M</td>\n",
       "      <td>1991-01-15</td>\n",
       "      <td>DMV</td>\n",
       "      <td>A</td>\n",
       "      <td>NaN</td>\n",
       "      <td>NaT</td>\n",
       "      <td>NaT</td>\n",
       "      <td>NaT</td>\n",
       "      <td>...</td>\n",
       "      <td>21</td>\n",
       "      <td>4</td>\n",
       "      <td>NaN</td>\n",
       "      <td>NaN</td>\n",
       "      <td>NaN</td>\n",
       "      <td>NaN</td>\n",
       "      <td>1991</td>\n",
       "      <td>1</td>\n",
       "      <td>15</td>\n",
       "      <td>1</td>\n",
       "    </tr>\n",
       "    <tr>\n",
       "      <th>3</th>\n",
       "      <td>NY000000000003306197</td>\n",
       "      <td>1956-11-06</td>\n",
       "      <td>M</td>\n",
       "      <td>1993-02-26</td>\n",
       "      <td>MAIL</td>\n",
       "      <td>I</td>\n",
       "      <td>MAILCHECK</td>\n",
       "      <td>2015-08-05</td>\n",
       "      <td>NaT</td>\n",
       "      <td>2012-11-06</td>\n",
       "      <td>...</td>\n",
       "      <td>6</td>\n",
       "      <td>1</td>\n",
       "      <td>2012.0</td>\n",
       "      <td>11.0</td>\n",
       "      <td>6.0</td>\n",
       "      <td>1.0</td>\n",
       "      <td>1993</td>\n",
       "      <td>2</td>\n",
       "      <td>26</td>\n",
       "      <td>4</td>\n",
       "    </tr>\n",
       "    <tr>\n",
       "      <th>4</th>\n",
       "      <td>NY000000000003306198</td>\n",
       "      <td>1975-11-25</td>\n",
       "      <td>F</td>\n",
       "      <td>1993-12-02</td>\n",
       "      <td>CBOE</td>\n",
       "      <td>A</td>\n",
       "      <td>NaN</td>\n",
       "      <td>NaT</td>\n",
       "      <td>NaT</td>\n",
       "      <td>2020-11-03</td>\n",
       "      <td>...</td>\n",
       "      <td>25</td>\n",
       "      <td>1</td>\n",
       "      <td>2020.0</td>\n",
       "      <td>11.0</td>\n",
       "      <td>3.0</td>\n",
       "      <td>1.0</td>\n",
       "      <td>1993</td>\n",
       "      <td>12</td>\n",
       "      <td>2</td>\n",
       "      <td>3</td>\n",
       "    </tr>\n",
       "  </tbody>\n",
       "</table>\n",
       "<p>5 rows × 53 columns</p>\n",
       "</div>"
      ],
      "text/plain": [
       "                 sboeid        dob gender    regdate vrsource status  \\\n",
       "0  NY000000000003306194 1971-03-31      F 1989-04-13     CBOE      P   \n",
       "1  NY000000000003306195 1972-06-01      M 1990-06-07     CBOE      A   \n",
       "2  NY000000000003306196 1972-07-21      M 1991-01-15      DMV      A   \n",
       "3  NY000000000003306197 1956-11-06      M 1993-02-26     MAIL      I   \n",
       "4  NY000000000003306198 1975-11-25      F 1993-12-02     CBOE      A   \n",
       "\n",
       "  reasoncode inact_date purge_date lastvoteddate  ... dob_day dob_dayofweek  \\\n",
       "0      MOVED        NaT 2014-06-11    2012-11-06  ...      31             2   \n",
       "1        NaN        NaT        NaT           NaT  ...       1             3   \n",
       "2        NaN        NaT        NaT           NaT  ...      21             4   \n",
       "3  MAILCHECK 2015-08-05        NaT    2012-11-06  ...       6             1   \n",
       "4        NaN        NaT        NaT    2020-11-03  ...      25             1   \n",
       "\n",
       "  lastvoteddate_year  lastvoteddate_month lastvoteddate_day  \\\n",
       "0             2012.0                 11.0               6.0   \n",
       "1                NaN                  NaN               NaN   \n",
       "2                NaN                  NaN               NaN   \n",
       "3             2012.0                 11.0               6.0   \n",
       "4             2020.0                 11.0               3.0   \n",
       "\n",
       "  lastvoteddate_dayofweek regdate_year regdate_month regdate_day  \\\n",
       "0                     1.0         1989             4          13   \n",
       "1                     NaN         1990             6           7   \n",
       "2                     NaN         1991             1          15   \n",
       "3                     1.0         1993             2          26   \n",
       "4                     1.0         1993            12           2   \n",
       "\n",
       "  regdate_dayofweek  \n",
       "0                 3  \n",
       "1                 3  \n",
       "2                 1  \n",
       "3                 4  \n",
       "4                 3  \n",
       "\n",
       "[5 rows x 53 columns]"
      ]
     },
     "execution_count": 306,
     "metadata": {},
     "output_type": "execute_result"
    }
   ],
   "source": [
    "new_result.head()"
   ]
  },
  {
   "cell_type": "markdown",
   "metadata": {},
   "source": [
    "### export data as .parquet format"
   ]
  },
  {
   "cell_type": "code",
   "execution_count": 189,
   "metadata": {},
   "outputs": [],
   "source": [
    "new_result.to_parquet('clean.parquet')"
   ]
  }
 ],
 "metadata": {
  "kernelspec": {
   "display_name": "voter_analysis",
   "language": "python",
   "name": "python3"
  },
  "language_info": {
   "codemirror_mode": {
    "name": "ipython",
    "version": 3
   },
   "file_extension": ".py",
   "mimetype": "text/x-python",
   "name": "python",
   "nbconvert_exporter": "python",
   "pygments_lexer": "ipython3",
   "version": "3.12.7"
  }
 },
 "nbformat": 4,
 "nbformat_minor": 2
}
